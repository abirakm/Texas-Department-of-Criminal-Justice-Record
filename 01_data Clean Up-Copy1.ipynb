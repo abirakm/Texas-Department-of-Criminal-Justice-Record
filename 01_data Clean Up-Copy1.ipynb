{
 "cells": [
  {
   "cell_type": "markdown",
   "metadata": {},
   "source": [
    "# This Notebook is to check the quality of the data and perform cleaup process for next steps"
   ]
  },
  {
   "cell_type": "code",
   "execution_count": null,
   "metadata": {},
   "outputs": [],
   "source": [
    "#import necessary libraries\n",
    "\n",
    "import pandas as pd\n",
    "import numpy as np\n",
    "import matplotlib.pyplot as plt\n",
    "\n",
    "%matplotlib inline"
   ]
  },
  {
   "cell_type": "code",
   "execution_count": null,
   "metadata": {},
   "outputs": [],
   "source": [
    "# read csv data\n",
    "TDCJ_Data = pd.read_csv(\"High_Value_Dataset__August_2022.csv\", dtype={'Offense Code': object},parse_dates=['Sentence Date','Offense Date'])\n",
    "TDCJ_Data.head()"
   ]
  },
  {
   "cell_type": "markdown",
   "metadata": {},
   "source": [
    "For this analysis we will use the Gender, Race, Age,County,Offense Code, TDCJ Offense,Sentence Date, Offense Date and Sentence (Years)"
   ]
  },
  {
   "cell_type": "code",
   "execution_count": null,
   "metadata": {},
   "outputs": [],
   "source": [
    "TDCJ_Data = TDCJ_Data[[\"Gender\", \"Race\", \"Age\",\"County\",\"Offense Code\", \"TDCJ Offense\",\"Sentence Date\",\"Offense Date\",\"Sentence (Years)\"]]\n",
    "TDCJ_Data.head()                       "
   ]
  },
  {
   "cell_type": "code",
   "execution_count": null,
   "metadata": {},
   "outputs": [],
   "source": [
    "# Check the data type\n",
    "TDCJ_Data.dtypes"
   ]
  },
  {
   "cell_type": "code",
   "execution_count": null,
   "metadata": {},
   "outputs": [],
   "source": [
    "TDCJ_Data.info()"
   ]
  },
  {
   "cell_type": "markdown",
   "metadata": {},
   "source": [
    "There are some null values in the Sentence Date. Let's remove those rows"
   ]
  },
  {
   "cell_type": "code",
   "execution_count": null,
   "metadata": {},
   "outputs": [],
   "source": [
    "TDCJ_Data = TDCJ_Data.dropna()\n",
    "TDCJ_Data.info()"
   ]
  },
  {
   "cell_type": "markdown",
   "metadata": {},
   "source": [
    "### Check How Many Offence Code and Offence types are there"
   ]
  },
  {
   "cell_type": "code",
   "execution_count": null,
   "metadata": {},
   "outputs": [],
   "source": [
    "TDCJ_Data[\"TDCJ Offense\"].unique().size"
   ]
  },
  {
   "cell_type": "code",
   "execution_count": null,
   "metadata": {},
   "outputs": [],
   "source": [
    "TDCJ_Data[\"Offense Code\"].unique().size"
   ]
  },
  {
   "cell_type": "code",
   "execution_count": null,
   "metadata": {},
   "outputs": [],
   "source": [
    "# Check How Many Offence Code and Offence types are there\n",
    "\n",
    "print(TDCJ_Data[[\"TDCJ Offense\",\"Offense Code\"]].drop_duplicates().sort_values(by =\"Offense Code\").head(10))\n"
   ]
  },
  {
   "cell_type": "markdown",
   "metadata": {},
   "source": [
    "As it is clear that the description is not consistent with the offence code. For simplycity lets consider the first two digits of the offence code and count how many unique offence type are there"
   ]
  },
  {
   "cell_type": "code",
   "execution_count": null,
   "metadata": {},
   "outputs": [],
   "source": [
    "# make a copy of data for offence code and offence description\n",
    "Offence_Code = TDCJ_Data[[\"TDCJ Offense\",\"Offense Code\"]].copy()\n",
    "Offence_Code[\"ShortCode\"] =  TDCJ_Data[\"Offense Code\"].str.slice(0,2)\n",
    "Offence_Code.head()"
   ]
  },
  {
   "cell_type": "code",
   "execution_count": null,
   "metadata": {},
   "outputs": [],
   "source": [
    "Offence_Code = Offence_Code[[\"ShortCode\",\"TDCJ Offense\"]].\\\n",
    "groupby([\"ShortCode\",\"TDCJ Offense\"]).\\\n",
    "size().\\\n",
    "reset_index(name=\"obs\").\\\n",
    "sort_values(by =[\"ShortCode\",\"obs\"],ascending = [True, False]).\\\n",
    "groupby([\"ShortCode\"]).\\\n",
    "first().\\\n",
    "reset_index().drop(\"obs\",axis =1)\n",
    "\n",
    "Offence_Code"
   ]
  },
  {
   "cell_type": "markdown",
   "metadata": {},
   "source": [
    "There are 37 unique offence type"
   ]
  },
  {
   "cell_type": "code",
   "execution_count": null,
   "metadata": {},
   "outputs": [],
   "source": [
    "TDCJ_Data[\"ShortCode\"] =  TDCJ_Data[\"Offense Code\"].str.slice(0,2)\n",
    "TDCJ_Data =  TDCJ_Data.drop([\"TDCJ Offense\",\"Offense Code\"], axis =1)\n",
    "TDCJ_Data =  pd.merge(TDCJ_Data,Offence_Code)\n",
    "TDCJ_Data.head()\n"
   ]
  },
  {
   "cell_type": "code",
   "execution_count": null,
   "metadata": {},
   "outputs": [],
   "source": [
    "(TDCJ_Data[\"Sentence Date\"]- TDCJ_Data[\"Offense Date\"])/np.timedelta64(1,\"D\").astype('int8')"
   ]
  },
  {
   "cell_type": "code",
   "execution_count": null,
   "metadata": {},
   "outputs": [],
   "source": [
    "TDCJ_Data[\"Case Duration\"] =  (TDCJ_Data[\"Sentence Date\"]- TDCJ_Data[\"Offense Date\"])/np.timedelta64(1,\"D\")\n",
    "TDCJ_Data[\"Sentence Year\"] = TDCJ_Data[\"Sentence Date\"].dt.year\n",
    "TDCJ_Data[\"Offense Year\"] = TDCJ_Data[\"Offense Date\"].dt.year\n",
    "TDCJ_Data[\"Age_at_Offence\"] =  TDCJ_Data[\"Age\"]-(2022 - TDCJ_Data[\"Offense Year\"])\n",
    "TDCJ_Data.drop([\"Sentence Date\",\"Offense Date\", \"Age\",\"ShortCode\"], axis =1,inplace=True)\n",
    "TDCJ_Data.head()"
   ]
  },
  {
   "cell_type": "code",
   "execution_count": null,
   "metadata": {},
   "outputs": [],
   "source": [
    "TDCJ_Data.to_csv(\"TDCJ_Data_clean.csv\", index = False)"
   ]
  }
 ],
 "metadata": {
  "kernelspec": {
   "display_name": "Python 3",
   "language": "python",
   "name": "python3"
  },
  "language_info": {
   "codemirror_mode": {
    "name": "ipython",
    "version": 3
   },
   "file_extension": ".py",
   "mimetype": "text/x-python",
   "name": "python",
   "nbconvert_exporter": "python",
   "pygments_lexer": "ipython3",
   "version": "3.7.6"
  }
 },
 "nbformat": 4,
 "nbformat_minor": 4
}
