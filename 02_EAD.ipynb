{
 "cells": [
  {
   "cell_type": "code",
   "execution_count": 25,
   "metadata": {},
   "outputs": [],
   "source": [
    "#import necessary libraries\n",
    "import pandas as pd\n",
    "import numpy as np\n",
    "import seaborn as sns\n",
    "import matplotlib.pyplot as plt\n",
    "\n",
    "%matplotlib inline"
   ]
  },
  {
   "cell_type": "code",
   "execution_count": 26,
   "metadata": {},
   "outputs": [
    {
     "data": {
      "text/html": [
       "<div>\n",
       "<style scoped>\n",
       "    .dataframe tbody tr th:only-of-type {\n",
       "        vertical-align: middle;\n",
       "    }\n",
       "\n",
       "    .dataframe tbody tr th {\n",
       "        vertical-align: top;\n",
       "    }\n",
       "\n",
       "    .dataframe thead th {\n",
       "        text-align: right;\n",
       "    }\n",
       "</style>\n",
       "<table border=\"1\" class=\"dataframe\">\n",
       "  <thead>\n",
       "    <tr style=\"text-align: right;\">\n",
       "      <th></th>\n",
       "      <th>Inmate_Type</th>\n",
       "      <th>Gender</th>\n",
       "      <th>Race</th>\n",
       "      <th>County</th>\n",
       "      <th>Offense</th>\n",
       "      <th>Sentence_Years</th>\n",
       "      <th>Offense_Description</th>\n",
       "      <th>Case_Duration_Days</th>\n",
       "      <th>Sentence_Year</th>\n",
       "      <th>Offense_Year</th>\n",
       "      <th>Age_at_Offence</th>\n",
       "    </tr>\n",
       "  </thead>\n",
       "  <tbody>\n",
       "    <tr>\n",
       "      <th>0</th>\n",
       "      <td>ID</td>\n",
       "      <td>M</td>\n",
       "      <td>B</td>\n",
       "      <td>Dallas</td>\n",
       "      <td>Property</td>\n",
       "      <td>21 to 25 Years</td>\n",
       "      <td>BURGLARY OF HABITATION</td>\n",
       "      <td>79.0</td>\n",
       "      <td>1983</td>\n",
       "      <td>1983</td>\n",
       "      <td>73</td>\n",
       "    </tr>\n",
       "    <tr>\n",
       "      <th>1</th>\n",
       "      <td>ID</td>\n",
       "      <td>M</td>\n",
       "      <td>B</td>\n",
       "      <td>Dallas</td>\n",
       "      <td>Property</td>\n",
       "      <td>31 to 40 Years</td>\n",
       "      <td>BURGLARY OF HABITATION</td>\n",
       "      <td>50.0</td>\n",
       "      <td>1992</td>\n",
       "      <td>1992</td>\n",
       "      <td>73</td>\n",
       "    </tr>\n",
       "    <tr>\n",
       "      <th>2</th>\n",
       "      <td>ID</td>\n",
       "      <td>M</td>\n",
       "      <td>B</td>\n",
       "      <td>Dallas</td>\n",
       "      <td>Property</td>\n",
       "      <td>26 to 30 Years</td>\n",
       "      <td>BURGLARY OF HABITATION</td>\n",
       "      <td>29.0</td>\n",
       "      <td>1985</td>\n",
       "      <td>1985</td>\n",
       "      <td>72</td>\n",
       "    </tr>\n",
       "    <tr>\n",
       "      <th>3</th>\n",
       "      <td>ID</td>\n",
       "      <td>M</td>\n",
       "      <td>H</td>\n",
       "      <td>Bexar</td>\n",
       "      <td>Property</td>\n",
       "      <td>Life</td>\n",
       "      <td>BURGLARY OF HABITATION</td>\n",
       "      <td>81.0</td>\n",
       "      <td>1986</td>\n",
       "      <td>1986</td>\n",
       "      <td>71</td>\n",
       "    </tr>\n",
       "    <tr>\n",
       "      <th>4</th>\n",
       "      <td>ID</td>\n",
       "      <td>M</td>\n",
       "      <td>W</td>\n",
       "      <td>Bell</td>\n",
       "      <td>Property</td>\n",
       "      <td>Life</td>\n",
       "      <td>BURGLARY OF HABITATION</td>\n",
       "      <td>218.0</td>\n",
       "      <td>1981</td>\n",
       "      <td>1980</td>\n",
       "      <td>69</td>\n",
       "    </tr>\n",
       "  </tbody>\n",
       "</table>\n",
       "</div>"
      ],
      "text/plain": [
       "  Inmate_Type Gender Race  County   Offense  Sentence_Years  \\\n",
       "0          ID      M    B  Dallas  Property  21 to 25 Years   \n",
       "1          ID      M    B  Dallas  Property  31 to 40 Years   \n",
       "2          ID      M    B  Dallas  Property  26 to 30 Years   \n",
       "3          ID      M    H   Bexar  Property            Life   \n",
       "4          ID      M    W    Bell  Property            Life   \n",
       "\n",
       "      Offense_Description  Case_Duration_Days  Sentence_Year  Offense_Year  \\\n",
       "0  BURGLARY OF HABITATION                79.0           1983          1983   \n",
       "1  BURGLARY OF HABITATION                50.0           1992          1992   \n",
       "2  BURGLARY OF HABITATION                29.0           1985          1985   \n",
       "3  BURGLARY OF HABITATION                81.0           1986          1986   \n",
       "4  BURGLARY OF HABITATION               218.0           1981          1980   \n",
       "\n",
       "   Age_at_Offence  \n",
       "0              73  \n",
       "1              73  \n",
       "2              72  \n",
       "3              71  \n",
       "4              69  "
      ]
     },
     "execution_count": 26,
     "metadata": {},
     "output_type": "execute_result"
    }
   ],
   "source": [
    "# Read Clean Data and replace space in column name with a underscore\n",
    "TDCJ_Data = pd.read_csv(\"TDCJ_Data_clean.csv\")\n",
    "TDCJ_Data.head()"
   ]
  },
  {
   "cell_type": "markdown",
   "metadata": {},
   "source": [
    "Let's Plot Bar chart for Categorical Data"
   ]
  },
  {
   "cell_type": "code",
   "execution_count": 28,
   "metadata": {},
   "outputs": [
    {
     "name": "stdout",
     "output_type": "stream",
     "text": [
      "<class 'pandas.core.frame.DataFrame'>\n",
      "RangeIndex: 91160 entries, 0 to 91159\n",
      "Data columns (total 11 columns):\n",
      " #   Column               Non-Null Count  Dtype  \n",
      "---  ------               --------------  -----  \n",
      " 0   Inmate_Type          91160 non-null  object \n",
      " 1   Gender               91160 non-null  object \n",
      " 2   Race                 91160 non-null  object \n",
      " 3   County               91160 non-null  object \n",
      " 4   Offense              91160 non-null  object \n",
      " 5   Sentence_Years       91160 non-null  object \n",
      " 6   Offense_Description  91160 non-null  object \n",
      " 7   Case_Duration_Days   91160 non-null  float64\n",
      " 8   Sentence_Year        91160 non-null  int64  \n",
      " 9   Offense_Year         91160 non-null  int64  \n",
      " 10  Age_at_Offence       91160 non-null  int64  \n",
      "dtypes: float64(1), int64(3), object(7)\n",
      "memory usage: 7.7+ MB\n"
     ]
    }
   ],
   "source": [
    "TDCJ_Data.info()"
   ]
  },
  {
   "cell_type": "code",
   "execution_count": 29,
   "metadata": {},
   "outputs": [
    {
     "data": {
      "text/plain": [
       "<matplotlib.axes._subplots.AxesSubplot at 0x237df370648>"
      ]
     },
     "execution_count": 29,
     "metadata": {},
     "output_type": "execute_result"
    },
    {
     "data": {
      "image/png": "[encoded data removed]",
      "text/plain": [
       "<Figure size 640x480 with 1 Axes>"
      ]
     },
     "metadata": {},
     "output_type": "display_data"
    }
   ],
   "source": [
    "sns.histplot(TDCJ_Data[\"Inmate_Type\"])"
   ]
  },
  {
   "cell_type": "code",
   "execution_count": 3,
   "metadata": {},
   "outputs": [
    {
     "data": {
      "text/plain": [
       "<matplotlib.axes._subplots.AxesSubplot at 0x237d642c708>"
      ]
     },
     "execution_count": 3,
     "metadata": {},
     "output_type": "execute_result"
    },
    {
     "data": {
      "image/png": "[encoded data removed]",
      "text/plain": [
       "<Figure size 640x480 with 1 Axes>"
      ]
     },
     "metadata": {},
     "output_type": "display_data"
    }
   ],
   "source": [
    "sns.histplot(TDCJ_Data[\"Gender\"])"
   ]
  },
  {
   "cell_type": "code",
   "execution_count": 4,
   "metadata": {},
   "outputs": [
    {
     "data": {
      "text/plain": [
       "<matplotlib.axes._subplots.AxesSubplot at 0x237d67b2488>"
      ]
     },
     "execution_count": 4,
     "metadata": {},
     "output_type": "execute_result"
    },
    {
     "data": {
      "image/png": "[encoded data removed]",
      "text/plain": [
       "<Figure size 640x480 with 1 Axes>"
      ]
     },
     "metadata": {},
     "output_type": "display_data"
    }
   ],
   "source": [
    "sns.histplot(TDCJ_Data[\"Race\"])"
   ]
  },
  {
   "cell_type": "code",
   "execution_count": 36,
   "metadata": {},
   "outputs": [
    {
     "data": {
      "text/plain": [
       "County\n",
       "Harris        11435\n",
       "Tarrant        7577\n",
       "Bexar          6490\n",
       "Dallas         5638\n",
       "Hidalgo        2561\n",
       "              ...  \n",
       "Glasscock         2\n",
       "Jeff Davis        2\n",
       "Roberts           2\n",
       "Loving            1\n",
       "Briscoe           1\n",
       "Name: County, Length: 252, dtype: int64"
      ]
     },
     "execution_count": 36,
     "metadata": {},
     "output_type": "execute_result"
    }
   ],
   "source": [
    "TDCJ_Data.groupby('County')['County'].count().sort_values(ascending=False)"
   ]
  },
  {
   "cell_type": "code",
   "execution_count": 38,
   "metadata": {},
   "outputs": [
    {
     "data": {
      "text/plain": [
       "Sentence_Years\n",
       "2 Years & Less            15034\n",
       "3 Years                   10080\n",
       "5 Years                    8620\n",
       "4 Years                    7622\n",
       "6 Months & Less            6528\n",
       "11 to 12 Months            4360\n",
       "10 Years                   4313\n",
       "11 to 15 Years             3863\n",
       "6 Years                    3426\n",
       "8 Years                    3182\n",
       "7 Years                    2596\n",
       "8 to 9 Months              2414\n",
       "16 to 20 Years             2085\n",
       "7 to 8 Months              1648\n",
       "9 to 10 Months             1616\n",
       "17 to 18 Months            1442\n",
       "21 to 25 Years             1398\n",
       "14 to 15 Months            1386\n",
       "6 to 7 Months              1238\n",
       "SAFPF                      1193\n",
       "23 to 24 Months & More     1044\n",
       "31 to 40 Years              954\n",
       "26 to 30 Years              796\n",
       "13 to 14 Months             678\n",
       "9 Years                     551\n",
       "41 to 59 Years              506\n",
       "15 to 16 Months             451\n",
       "19 to 20 Months             437\n",
       "60 Years +                  388\n",
       "Life                        326\n",
       "10 to 11 Months             286\n",
       "12 to 13 Months             240\n",
       "Life w/o Parole             157\n",
       "16 to 17 Months              98\n",
       "21 to 22 Months              87\n",
       "18 to 19 Months              41\n",
       "20 to 21 Months              39\n",
       "22 to 23 Months              15\n",
       "Capital Life                 14\n",
       "Death                         8\n",
       "Name: Sentence_Years, dtype: int64"
      ]
     },
     "execution_count": 38,
     "metadata": {},
     "output_type": "execute_result"
    }
   ],
   "source": [
    "TDCJ_Data.groupby('Sentence_Years')['Sentence_Years'].count().sort_values(ascending=False)"
   ]
  },
  {
   "cell_type": "code",
   "execution_count": 42,
   "metadata": {},
   "outputs": [
    {
     "data": {
      "text/plain": [
       "Sentence_Year\n",
       "2019    42951\n",
       "2018    22167\n",
       "2020     9592\n",
       "2017     3460\n",
       "2016     2812\n",
       "2015     2175\n",
       "2014     1644\n",
       "2013     1194\n",
       "2012      889\n",
       "2011      695\n",
       "2010      506\n",
       "2009      389\n",
       "2008      270\n",
       "2007      215\n",
       "1992      180\n",
       "2005      165\n",
       "1993      161\n",
       "2006      157\n",
       "1994      135\n",
       "1991      131\n",
       "2004      120\n",
       "2003      114\n",
       "1990      110\n",
       "2002       89\n",
       "1989       89\n",
       "1999       88\n",
       "2001       86\n",
       "1995       84\n",
       "2000       78\n",
       "1996       61\n",
       "1997       58\n",
       "1998       52\n",
       "1988       51\n",
       "1987       43\n",
       "1985       32\n",
       "1986       28\n",
       "1984       18\n",
       "1983       17\n",
       "1981       12\n",
       "1979       10\n",
       "1978        9\n",
       "1982        7\n",
       "1980        5\n",
       "1977        3\n",
       "1971        3\n",
       "1975        2\n",
       "1974        2\n",
       "1973        1\n",
       "Name: Sentence_Year, dtype: int64"
      ]
     },
     "execution_count": 42,
     "metadata": {},
     "output_type": "execute_result"
    }
   ],
   "source": [
    "TDCJ_Data.groupby('Sentence_Year')['Sentence_Year'].count().sort_values(ascending=False)"
   ]
  },
  {
   "cell_type": "code",
   "execution_count": 41,
   "metadata": {},
   "outputs": [
    {
     "data": {
      "text/plain": [
       "count    91160.000000\n",
       "mean       542.732536\n",
       "std        657.883946\n",
       "min      -4587.000000\n",
       "25%        169.000000\n",
       "50%        330.000000\n",
       "75%        652.000000\n",
       "max      13914.000000\n",
       "Name: Case_Duration_Days, dtype: float64"
      ]
     },
     "execution_count": 41,
     "metadata": {},
     "output_type": "execute_result"
    }
   ],
   "source": [
    "TDCJ_Data.Case_Duration_Days.describe()"
   ]
  }
 ],
 "metadata": {
  "kernelspec": {
   "display_name": "Python 3",
   "language": "python",
   "name": "python3"
  },
  "language_info": {
   "codemirror_mode": {
    "name": "ipython",
    "version": 3
   },
   "file_extension": ".py",
   "mimetype": "text/x-python",
   "name": "python",
   "nbconvert_exporter": "python",
   "pygments_lexer": "ipython3",
   "version": "3.7.6"
  }
 },
 "nbformat": 4,
 "nbformat_minor": 4
}
