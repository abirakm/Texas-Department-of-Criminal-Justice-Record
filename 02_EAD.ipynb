{
  "cells": [
    {
      "cell_type": "markdown",
      "metadata": {
        "id": "view-in-github",
        "colab_type": "text"
      },
      "source": [
        "<a href=\"https://colab.research.google.com/github/abirakm/Texas-Department-of-Criminal-Justice-Record/blob/main/02_EAD.ipynb\" target=\"_parent\"><img src=\"https://colab.research.google.com/assets/colab-badge.svg\" alt=\"Open In Colab\"/></a>"
      ]
    },
    {
      "cell_type": "code",
      "execution_count": null,
      "metadata": {
        "id": "fQmnXPIP11kP"
      },
      "outputs": [],
      "source": [
        "#import necessary libraries\n",
        "import pandas as pd\n",
        "import numpy as np\n",
        "import seaborn as sns\n",
        "import matplotlib.pyplot as plt\n",
        "import folium\n",
        "%matplotlib inline"
      ]
    },
    {
      "cell_type": "code",
      "execution_count": null,
      "metadata": {
        "colab": {
          "base_uri": "https://localhost:8080/",
          "height": 206
        },
        "id": "7JV3Jpb711kR",
        "outputId": "f1b683e5-dc84-4626-970a-ed18cb5e3d85"
      },
      "outputs": [
        {
          "output_type": "execute_result",
          "data": {
            "text/plain": [
              "  Inmate_Type Gender Race  County   Offense  Sentence_Years  \\\n",
              "0          ID      M    B  Dallas  Property  21 to 25 Years   \n",
              "1          ID      M    B  Dallas  Property  31 to 40 Years   \n",
              "2          ID      M    B  Dallas  Property  26 to 30 Years   \n",
              "3          ID      M    H   Bexar  Property            Life   \n",
              "4          ID      M    W    Bell  Property            Life   \n",
              "\n",
              "      Offense_Description  Case_Duration_Days  Sentence_Year  Offense_Year  \\\n",
              "0  BURGLARY OF HABITATION                79.0           1983          1983   \n",
              "1  BURGLARY OF HABITATION                50.0           1992          1992   \n",
              "2  BURGLARY OF HABITATION                29.0           1985          1985   \n",
              "3  BURGLARY OF HABITATION                81.0           1986          1986   \n",
              "4  BURGLARY OF HABITATION               218.0           1981          1980   \n",
              "\n",
              "   Age_at_Offence  \n",
              "0              73  \n",
              "1              73  \n",
              "2              72  \n",
              "3              71  \n",
              "4              69  "
            ],
            "text/html": [
              "\n",
              "  <div id=\"df-f2dab28b-3656-4ca1-b232-f83a1208bcd9\">\n",
              "    <div class=\"colab-df-container\">\n",
              "      <div>\n",
              "<style scoped>\n",
              "    .dataframe tbody tr th:only-of-type {\n",
              "        vertical-align: middle;\n",
              "    }\n",
              "\n",
              "    .dataframe tbody tr th {\n",
              "        vertical-align: top;\n",
              "    }\n",
              "\n",
              "    .dataframe thead th {\n",
              "        text-align: right;\n",
              "    }\n",
              "</style>\n",
              "<table border=\"1\" class=\"dataframe\">\n",
              "  <thead>\n",
              "    <tr style=\"text-align: right;\">\n",
              "      <th></th>\n",
              "      <th>Inmate_Type</th>\n",
              "      <th>Gender</th>\n",
              "      <th>Race</th>\n",
              "      <th>County</th>\n",
              "      <th>Offense</th>\n",
              "      <th>Sentence_Years</th>\n",
              "      <th>Offense_Description</th>\n",
              "      <th>Case_Duration_Days</th>\n",
              "      <th>Sentence_Year</th>\n",
              "      <th>Offense_Year</th>\n",
              "      <th>Age_at_Offence</th>\n",
              "    </tr>\n",
              "  </thead>\n",
              "  <tbody>\n",
              "    <tr>\n",
              "      <th>0</th>\n",
              "      <td>ID</td>\n",
              "      <td>M</td>\n",
              "      <td>B</td>\n",
              "      <td>Dallas</td>\n",
              "      <td>Property</td>\n",
              "      <td>21 to 25 Years</td>\n",
              "      <td>BURGLARY OF HABITATION</td>\n",
              "      <td>79.0</td>\n",
              "      <td>1983</td>\n",
              "      <td>1983</td>\n",
              "      <td>73</td>\n",
              "    </tr>\n",
              "    <tr>\n",
              "      <th>1</th>\n",
              "      <td>ID</td>\n",
              "      <td>M</td>\n",
              "      <td>B</td>\n",
              "      <td>Dallas</td>\n",
              "      <td>Property</td>\n",
              "      <td>31 to 40 Years</td>\n",
              "      <td>BURGLARY OF HABITATION</td>\n",
              "      <td>50.0</td>\n",
              "      <td>1992</td>\n",
              "      <td>1992</td>\n",
              "      <td>73</td>\n",
              "    </tr>\n",
              "    <tr>\n",
              "      <th>2</th>\n",
              "      <td>ID</td>\n",
              "      <td>M</td>\n",
              "      <td>B</td>\n",
              "      <td>Dallas</td>\n",
              "      <td>Property</td>\n",
              "      <td>26 to 30 Years</td>\n",
              "      <td>BURGLARY OF HABITATION</td>\n",
              "      <td>29.0</td>\n",
              "      <td>1985</td>\n",
              "      <td>1985</td>\n",
              "      <td>72</td>\n",
              "    </tr>\n",
              "    <tr>\n",
              "      <th>3</th>\n",
              "      <td>ID</td>\n",
              "      <td>M</td>\n",
              "      <td>H</td>\n",
              "      <td>Bexar</td>\n",
              "      <td>Property</td>\n",
              "      <td>Life</td>\n",
              "      <td>BURGLARY OF HABITATION</td>\n",
              "      <td>81.0</td>\n",
              "      <td>1986</td>\n",
              "      <td>1986</td>\n",
              "      <td>71</td>\n",
              "    </tr>\n",
              "    <tr>\n",
              "      <th>4</th>\n",
              "      <td>ID</td>\n",
              "      <td>M</td>\n",
              "      <td>W</td>\n",
              "      <td>Bell</td>\n",
              "      <td>Property</td>\n",
              "      <td>Life</td>\n",
              "      <td>BURGLARY OF HABITATION</td>\n",
              "      <td>218.0</td>\n",
              "      <td>1981</td>\n",
              "      <td>1980</td>\n",
              "      <td>69</td>\n",
              "    </tr>\n",
              "  </tbody>\n",
              "</table>\n",
              "</div>\n",
              "      <button class=\"colab-df-convert\" onclick=\"convertToInteractive('df-f2dab28b-3656-4ca1-b232-f83a1208bcd9')\"\n",
              "              title=\"Convert this dataframe to an interactive table.\"\n",
              "              style=\"display:none;\">\n",
              "        \n",
              "  <svg xmlns=\"http://www.w3.org/2000/svg\" height=\"24px\"viewBox=\"0 0 24 24\"\n",
              "       width=\"24px\">\n",
              "    <path d=\"M0 0h24v24H0V0z\" fill=\"none\"/>\n",
              "    <path d=\"M18.56 5.44l.94 2.06.94-2.06 2.06-.94-2.06-.94-.94-2.06-.94 2.06-2.06.94zm-11 1L8.5 8.5l.94-2.06 2.06-.94-2.06-.94L8.5 2.5l-.94 2.06-2.06.94zm10 10l.94 2.06.94-2.06 2.06-.94-2.06-.94-.94-2.06-.94 2.06-2.06.94z\"/><path d=\"M17.41 7.96l-1.37-1.37c-.4-.4-.92-.59-1.43-.59-.52 0-1.04.2-1.43.59L10.3 9.45l-7.72 7.72c-.78.78-.78 2.05 0 2.83L4 21.41c.39.39.9.59 1.41.59.51 0 1.02-.2 1.41-.59l7.78-7.78 2.81-2.81c.8-.78.8-2.07 0-2.86zM5.41 20L4 18.59l7.72-7.72 1.47 1.35L5.41 20z\"/>\n",
              "  </svg>\n",
              "      </button>\n",
              "      \n",
              "  <style>\n",
              "    .colab-df-container {\n",
              "      display:flex;\n",
              "      flex-wrap:wrap;\n",
              "      gap: 12px;\n",
              "    }\n",
              "\n",
              "    .colab-df-convert {\n",
              "      background-color: #E8F0FE;\n",
              "      border: none;\n",
              "      border-radius: 50%;\n",
              "      cursor: pointer;\n",
              "      display: none;\n",
              "      fill: #1967D2;\n",
              "      height: 32px;\n",
              "      padding: 0 0 0 0;\n",
              "      width: 32px;\n",
              "    }\n",
              "\n",
              "    .colab-df-convert:hover {\n",
              "      background-color: #E2EBFA;\n",
              "      box-shadow: 0px 1px 2px rgba(60, 64, 67, 0.3), 0px 1px 3px 1px rgba(60, 64, 67, 0.15);\n",
              "      fill: #174EA6;\n",
              "    }\n",
              "\n",
              "    [theme=dark] .colab-df-convert {\n",
              "      background-color: #3B4455;\n",
              "      fill: #D2E3FC;\n",
              "    }\n",
              "\n",
              "    [theme=dark] .colab-df-convert:hover {\n",
              "      background-color: #434B5C;\n",
              "      box-shadow: 0px 1px 3px 1px rgba(0, 0, 0, 0.15);\n",
              "      filter: drop-shadow(0px 1px 2px rgba(0, 0, 0, 0.3));\n",
              "      fill: #FFFFFF;\n",
              "    }\n",
              "  </style>\n",
              "\n",
              "      <script>\n",
              "        const buttonEl =\n",
              "          document.querySelector('#df-f2dab28b-3656-4ca1-b232-f83a1208bcd9 button.colab-df-convert');\n",
              "        buttonEl.style.display =\n",
              "          google.colab.kernel.accessAllowed ? 'block' : 'none';\n",
              "\n",
              "        async function convertToInteractive(key) {\n",
              "          const element = document.querySelector('#df-f2dab28b-3656-4ca1-b232-f83a1208bcd9');\n",
              "          const dataTable =\n",
              "            await google.colab.kernel.invokeFunction('convertToInteractive',\n",
              "                                                     [key], {});\n",
              "          if (!dataTable) return;\n",
              "\n",
              "          const docLinkHtml = 'Like what you see? Visit the ' +\n",
              "            '<a target=\"_blank\" href=https://colab.research.google.com/notebooks/data_table.ipynb>data table notebook</a>'\n",
              "            + ' to learn more about interactive tables.';\n",
              "          element.innerHTML = '';\n",
              "          dataTable['output_type'] = 'display_data';\n",
              "          await google.colab.output.renderOutput(dataTable, element);\n",
              "          const docLink = document.createElement('div');\n",
              "          docLink.innerHTML = docLinkHtml;\n",
              "          element.appendChild(docLink);\n",
              "        }\n",
              "      </script>\n",
              "    </div>\n",
              "  </div>\n",
              "  "
            ]
          },
          "metadata": {},
          "execution_count": 39
        }
      ],
      "source": [
        "# Read Clean Data and replace space in column name with a underscore\n",
        "TDCJ_Data = pd.read_csv(\"https://raw.githubusercontent.com/abirakm/Texas-Department-of-Criminal-Justice-Record/main/TDCJ_Data_clean.csv\")\n",
        "TDCJ_Data.head()"
      ]
    },
    {
      "cell_type": "markdown",
      "metadata": {
        "id": "Bk80M4rK11kS"
      },
      "source": [
        "Let's Plot Bar chart for Categorical Data"
      ]
    },
    {
      "cell_type": "code",
      "execution_count": null,
      "metadata": {
        "colab": {
          "base_uri": "https://localhost:8080/"
        },
        "id": "tKOeCq_L11kT",
        "outputId": "8db239d6-0b97-4c7b-afd7-c0a15c8d674e"
      },
      "outputs": [
        {
          "output_type": "stream",
          "name": "stdout",
          "text": [
            "<class 'pandas.core.frame.DataFrame'>\n",
            "RangeIndex: 91148 entries, 0 to 91147\n",
            "Data columns (total 11 columns):\n",
            " #   Column               Non-Null Count  Dtype  \n",
            "---  ------               --------------  -----  \n",
            " 0   Inmate_Type          91148 non-null  object \n",
            " 1   Gender               91148 non-null  object \n",
            " 2   Race                 91148 non-null  object \n",
            " 3   County               91148 non-null  object \n",
            " 4   Offense              91148 non-null  object \n",
            " 5   Sentence_Years       91148 non-null  object \n",
            " 6   Offense_Description  91148 non-null  object \n",
            " 7   Case_Duration_Days   91148 non-null  float64\n",
            " 8   Sentence_Year        91148 non-null  int64  \n",
            " 9   Offense_Year         91148 non-null  int64  \n",
            " 10  Age_at_Offence       91148 non-null  int64  \n",
            "dtypes: float64(1), int64(3), object(7)\n",
            "memory usage: 7.6+ MB\n"
          ]
        }
      ],
      "source": [
        "TDCJ_Data.info()"
      ]
    },
    {
      "cell_type": "code",
      "execution_count": null,
      "metadata": {
        "colab": {
          "base_uri": "https://localhost:8080/",
          "height": 297
        },
        "id": "wyaoiBPK11kU",
        "outputId": "29b09074-c2e7-46e9-acba-7c75be7d92dc"
      },
      "outputs": [
        {
          "output_type": "execute_result",
          "data": {
            "text/plain": [
              "<matplotlib.axes._subplots.AxesSubplot at 0x7f2d8f0f0e50>"
            ]
          },
          "metadata": {},
          "execution_count": 41
        },
        {
          "output_type": "display_data",
          "data": {
            "text/plain": [
              "<Figure size 432x288 with 1 Axes>"
            ],
            "image/png": "[encoded data removed]"
          },
          "metadata": {
            "needs_background": "light"
          }
        }
      ],
      "source": [
        "sns.histplot(TDCJ_Data[\"Inmate_Type\"])"
      ]
    },
    {
      "cell_type": "code",
      "execution_count": null,
      "metadata": {
        "colab": {
          "base_uri": "https://localhost:8080/",
          "height": 299
        },
        "id": "whyZ7AVX11kU",
        "outputId": "a3cc99de-b72b-42d9-a7a2-500e83d3bb01"
      },
      "outputs": [
        {
          "output_type": "execute_result",
          "data": {
            "text/plain": [
              "<matplotlib.axes._subplots.AxesSubplot at 0x7f2d8f094e10>"
            ]
          },
          "metadata": {},
          "execution_count": 42
        },
        {
          "output_type": "display_data",
          "data": {
            "text/plain": [
              "<Figure size 432x288 with 1 Axes>"
            ],
            "image/png": "[encoded data removed]"
          },
          "metadata": {
            "needs_background": "light"
          }
        }
      ],
      "source": [
        "sns.histplot(TDCJ_Data[\"Gender\"])"
      ]
    },
    {
      "cell_type": "code",
      "execution_count": null,
      "metadata": {
        "colab": {
          "base_uri": "https://localhost:8080/",
          "height": 296
        },
        "id": "fr4VV2cK11kU",
        "outputId": "933acfd7-eded-44d7-dd85-46722ffb32fc"
      },
      "outputs": [
        {
          "output_type": "execute_result",
          "data": {
            "text/plain": [
              "<matplotlib.axes._subplots.AxesSubplot at 0x7f2d8f0f0f10>"
            ]
          },
          "metadata": {},
          "execution_count": 43
        },
        {
          "output_type": "display_data",
          "data": {
            "text/plain": [
              "<Figure size 432x288 with 1 Axes>"
            ],
            "image/png": "[encoded data removed]"
          },
          "metadata": {
            "needs_background": "light"
          }
        }
      ],
      "source": [
        "sns.histplot(TDCJ_Data[\"Race\"])"
      ]
    },
    {
      "cell_type": "code",
      "execution_count": null,
      "metadata": {
        "colab": {
          "base_uri": "https://localhost:8080/"
        },
        "id": "2_037quo11kV",
        "outputId": "fa1967d8-34a9-4ee2-c12a-f3c77bb665bc"
      },
      "outputs": [
        {
          "output_type": "execute_result",
          "data": {
            "text/plain": [
              "County\n",
              "Harris        11435\n",
              "Tarrant        7577\n",
              "Bexar          6490\n",
              "Dallas         5638\n",
              "Hidalgo        2561\n",
              "              ...  \n",
              "Glasscock         2\n",
              "Roberts           2\n",
              "Jeff Davis        2\n",
              "Briscoe           1\n",
              "Loving            1\n",
              "Name: County, Length: 252, dtype: int64"
            ]
          },
          "metadata": {},
          "execution_count": 44
        }
      ],
      "source": [
        "TDCJ_Data.groupby('County')['County'].count().sort_values(ascending=False)"
      ]
    },
    {
      "cell_type": "code",
      "execution_count": null,
      "metadata": {
        "colab": {
          "base_uri": "https://localhost:8080/"
        },
        "id": "gx40d8GC11kV",
        "outputId": "57eb8873-41ec-4efb-e0f4-4343cdf822a2"
      },
      "outputs": [
        {
          "output_type": "execute_result",
          "data": {
            "text/plain": [
              "Sentence_Years\n",
              "2 Years & Less            15033\n",
              "3 Years                   10078\n",
              "5 Years                    8620\n",
              "4 Years                    7621\n",
              "6 Months & Less            6527\n",
              "11 to 12 Months            4360\n",
              "10 Years                   4312\n",
              "11 to 15 Years             3863\n",
              "6 Years                    3426\n",
              "8 Years                    3182\n",
              "7 Years                    2595\n",
              "8 to 9 Months              2414\n",
              "16 to 20 Years             2085\n",
              "7 to 8 Months              1647\n",
              "9 to 10 Months             1615\n",
              "17 to 18 Months            1441\n",
              "21 to 25 Years             1398\n",
              "14 to 15 Months            1386\n",
              "6 to 7 Months              1238\n",
              "SAFPF                      1193\n",
              "23 to 24 Months & More     1044\n",
              "31 to 40 Years              953\n",
              "26 to 30 Years              796\n",
              "13 to 14 Months             678\n",
              "9 Years                     551\n",
              "41 to 59 Years              506\n",
              "15 to 16 Months             450\n",
              "19 to 20 Months             437\n",
              "60 Years +                  388\n",
              "Life                        326\n",
              "10 to 11 Months             286\n",
              "12 to 13 Months             240\n",
              "Life w/o Parole             157\n",
              "16 to 17 Months              98\n",
              "21 to 22 Months              87\n",
              "18 to 19 Months              41\n",
              "20 to 21 Months              39\n",
              "22 to 23 Months              15\n",
              "Capital Life                 14\n",
              "Death                         8\n",
              "Name: Sentence_Years, dtype: int64"
            ]
          },
          "metadata": {},
          "execution_count": 45
        }
      ],
      "source": [
        "TDCJ_Data.groupby('Sentence_Years')['Sentence_Years'].count().sort_values(ascending=False)"
      ]
    },
    {
      "cell_type": "code",
      "execution_count": null,
      "metadata": {
        "colab": {
          "base_uri": "https://localhost:8080/"
        },
        "id": "CBahT31c11kW",
        "outputId": "a509e747-2035-4124-93b5-e71097b706a4"
      },
      "outputs": [
        {
          "output_type": "execute_result",
          "data": {
            "text/plain": [
              "Sentence_Year\n",
              "2019    42950\n",
              "2018    22163\n",
              "2020     9592\n",
              "2017     3459\n",
              "2016     2809\n",
              "2015     2174\n",
              "2014     1643\n",
              "2013     1194\n",
              "2012      889\n",
              "2011      695\n",
              "2010      506\n",
              "2009      389\n",
              "2008      270\n",
              "2007      215\n",
              "1992      180\n",
              "2005      165\n",
              "1993      161\n",
              "2006      157\n",
              "1994      135\n",
              "1991      131\n",
              "2004      120\n",
              "2003      114\n",
              "1990      110\n",
              "1989       89\n",
              "2002       89\n",
              "1999       88\n",
              "2001       85\n",
              "1995       84\n",
              "2000       78\n",
              "1996       61\n",
              "1997       58\n",
              "1998       52\n",
              "1988       51\n",
              "1987       43\n",
              "1985       32\n",
              "1986       28\n",
              "1984       18\n",
              "1983       17\n",
              "1981       12\n",
              "1979       10\n",
              "1978        9\n",
              "1982        7\n",
              "1980        5\n",
              "1977        3\n",
              "1971        3\n",
              "1975        2\n",
              "1974        2\n",
              "1973        1\n",
              "Name: Sentence_Year, dtype: int64"
            ]
          },
          "metadata": {},
          "execution_count": 46
        }
      ],
      "source": [
        "TDCJ_Data.groupby('Sentence_Year')['Sentence_Year'].count().sort_values(ascending=False)"
      ]
    },
    {
      "cell_type": "code",
      "execution_count": null,
      "metadata": {
        "colab": {
          "base_uri": "https://localhost:8080/"
        },
        "id": "V_VZHWm811kW",
        "outputId": "09fb23cf-5bf9-4bd2-e7f4-6bcea7ab4b14"
      },
      "outputs": [
        {
          "output_type": "execute_result",
          "data": {
            "text/plain": [
              "count    91148.000000\n",
              "mean       542.854314\n",
              "std        657.680777\n",
              "min          1.000000\n",
              "25%        169.000000\n",
              "50%        330.000000\n",
              "75%        652.000000\n",
              "max      13914.000000\n",
              "Name: Case_Duration_Days, dtype: float64"
            ]
          },
          "metadata": {},
          "execution_count": 47
        }
      ],
      "source": [
        "TDCJ_Data.Case_Duration_Days.describe()"
      ]
    },
    {
      "cell_type": "code",
      "source": [
        "# Import the geopandas and geoplot libraries\n",
        "import geopandas as gpd\n",
        "import geoplot as gplt\n",
        "\n",
        "# Load the json file with county coordinates\n",
        "geoData = gpd.read_file('https://raw.githubusercontent.com/holtzy/The-Python-Graph-Gallery/master/static/data/US-counties.geojson')\n",
        "\n",
        "# Make sure the \"id\" column is an integer\n",
        "geoData.id = geoData.id.astype(str).astype(int)\n",
        "\n",
        "# Remove Alaska, Hawaii and Puerto Rico.\n",
        "stateToRemove = ['02', '15', '72']\n",
        "geoData = geoData[~geoData.STATE.isin(stateToRemove)]\n",
        "\n",
        "# Basic plot with just county outlines\n",
        "gplt.polyplot(geoData, figsize=(20, 4));"
      ],
      "metadata": {
        "id": "fAHo4Yls7FcA",
        "outputId": "c93a229f-b7dc-477c-c88e-804ceab92e96",
        "colab": {
          "base_uri": "https://localhost:8080/",
          "height": 303
        }
      },
      "execution_count": 53,
      "outputs": [
        {
          "output_type": "stream",
          "name": "stderr",
          "text": [
            "/usr/local/lib/python3.7/dist-packages/geoplot/geoplot.py:885: ShapelyDeprecationWarning: Iteration over multi-part geometries is deprecated and will be removed in Shapely 2.0. Use the `geoms` property to access the constituent parts of a multi-part geometry.\n",
            "  for subgeom in geom:\n"
          ]
        },
        {
          "output_type": "display_data",
          "data": {
            "text/plain": [
              "<Figure size 1440x288 with 1 Axes>"
            ],
            "image/png": "[encoded data removed]"
          },
          "metadata": {
            "needs_background": "light"
          }
        }
      ]
    },
    {
      "cell_type": "code",
      "source": [
        "CountyData =  gpd.read_file(\"https://raw.githubusercontent.com/abirakm/Texas-Department-of-Criminal-Justice-Record/main/Texas%20Counties%20Map.geojson\")"
      ],
      "metadata": {
        "id": "KYOyBZTUGP2S"
      },
      "execution_count": 55,
      "outputs": []
    },
    {
      "cell_type": "code",
      "source": [
        "gplt.polyplot(CountyData);"
      ],
      "metadata": {
        "id": "tHmyzdMMHoon",
        "outputId": "174e15b8-175b-4178-8c33-a1a68e729430",
        "colab": {
          "base_uri": "https://localhost:8080/",
          "height": 412
        }
      },
      "execution_count": 57,
      "outputs": [
        {
          "output_type": "stream",
          "name": "stderr",
          "text": [
            "/usr/local/lib/python3.7/dist-packages/geoplot/geoplot.py:885: ShapelyDeprecationWarning: Iteration over multi-part geometries is deprecated and will be removed in Shapely 2.0. Use the `geoms` property to access the constituent parts of a multi-part geometry.\n",
            "  for subgeom in geom:\n"
          ]
        },
        {
          "output_type": "display_data",
          "data": {
            "text/plain": [
              "<Figure size 576x432 with 1 Axes>"
            ],
            "image/png": "[encoded data removed]"
          },
          "metadata": {
            "needs_background": "light"
          }
        }
      ]
    },
    {
      "cell_type": "code",
      "source": [
        "CountyData"
      ],
      "metadata": {
        "id": "vPSYs0bQIecW",
        "outputId": "b9fa68c8-06b9-4f85-d2b3-ce95003f77ec",
        "colab": {
          "base_uri": "https://localhost:8080/",
          "height": 424
        }
      },
      "execution_count": 61,
      "outputs": [
        {
          "output_type": "execute_result",
          "data": {
            "text/plain": [
              "          name source     shape_area date_modif stratmap_i txdot_abbr  \\\n",
              "0       Dallam    DRG    0.391036107       None                   004   \n",
              "1      Sherman    DRG  0.23975713465       None                   004   \n",
              "2     Hansford    DRG  0.23918797085       None                   004   \n",
              "3    Ochiltree    DRG  0.23882832265       None                   004   \n",
              "4     Lipscomb    DRG  0.24239659585       None                   004   \n",
              "..         ...    ...            ...        ...        ...        ...   \n",
              "249     Crosby    DRG    0.226905027       None                   005   \n",
              "250    Dickens    DRG  0.22769896565       None                   025   \n",
              "251       King    DRG  0.22995364125       None                   025   \n",
              "252     Yoakum    DRG   0.2003603496       None                   005   \n",
              "253      Garza    DRG  0.22442207905       None                   005   \n",
              "\n",
              "        shape_leng date_retir                 date_creat cog_abbr local_id  \\\n",
              "0     2.6477391005       None  1964-01-01T08:00:00+00:00      113      113   \n",
              "1    1.96801050936       None  1963-01-01T08:00:00+00:00      113      113   \n",
              "2    1.96553456688       None  1973-01-01T08:00:00+00:00      113      113   \n",
              "3    1.96733065435       None  1972-01-01T08:00:00+00:00      113      113   \n",
              "4    1.97981554464       None  1972-01-01T08:00:00+00:00      113      113   \n",
              "..             ...        ...                        ...      ...      ...   \n",
              "249  1.91322895151       None  1981-01-01T08:00:00+00:00      123      123   \n",
              "250   1.9206736086       None  1981-01-01T08:00:00+00:00      123      123   \n",
              "251  1.92823583161       None  1966-01-01T08:00:00+00:00      123      123   \n",
              "252  1.79156635058       None  1970-01-01T08:00:00+00:00      123      123   \n",
              "253  1.89833897599       None  1969-01-01T08:00:00+00:00      123      123   \n",
              "\n",
              "    fips_code                                           geometry  \n",
              "0         111  MULTIPOLYGON (((-102.53963 36.05514, -102.5834...  \n",
              "1         421  MULTIPOLYGON (((-101.62344 36.05539, -101.6341...  \n",
              "2         195  MULTIPOLYGON (((-101.08517 36.49986, -101.0851...  \n",
              "3         357  MULTIPOLYGON (((-100.54607 36.45957, -100.5461...  \n",
              "4         295  MULTIPOLYGON (((-100.54020 36.05599, -100.5462...  \n",
              "..        ...                                                ...  \n",
              "249       107  MULTIPOLYGON (((-101.03881 33.39715, -101.0892...  \n",
              "250       125  MULTIPOLYGON (((-101.04125 33.83363, -101.0006...  \n",
              "251       269  MULTIPOLYGON (((-100.04856 33.83598, -100.0299...  \n",
              "252       501  MULTIPOLYGON (((-102.59470 33.38834, -102.5947...  \n",
              "253       169  MULTIPOLYGON (((-101.17342 32.96360, -101.2404...  \n",
              "\n",
              "[254 rows x 13 columns]"
            ],
            "text/html": [
              "\n",
              "  <div id=\"df-788da25d-3db2-4c00-8865-115ff9d505de\">\n",
              "    <div class=\"colab-df-container\">\n",
              "      <div>\n",
              "<style scoped>\n",
              "    .dataframe tbody tr th:only-of-type {\n",
              "        vertical-align: middle;\n",
              "    }\n",
              "\n",
              "    .dataframe tbody tr th {\n",
              "        vertical-align: top;\n",
              "    }\n",
              "\n",
              "    .dataframe thead th {\n",
              "        text-align: right;\n",
              "    }\n",
              "</style>\n",
              "<table border=\"1\" class=\"dataframe\">\n",
              "  <thead>\n",
              "    <tr style=\"text-align: right;\">\n",
              "      <th></th>\n",
              "      <th>name</th>\n",
              "      <th>source</th>\n",
              "      <th>shape_area</th>\n",
              "      <th>date_modif</th>\n",
              "      <th>stratmap_i</th>\n",
              "      <th>txdot_abbr</th>\n",
              "      <th>shape_leng</th>\n",
              "      <th>date_retir</th>\n",
              "      <th>date_creat</th>\n",
              "      <th>cog_abbr</th>\n",
              "      <th>local_id</th>\n",
              "      <th>fips_code</th>\n",
              "      <th>geometry</th>\n",
              "    </tr>\n",
              "  </thead>\n",
              "  <tbody>\n",
              "    <tr>\n",
              "      <th>0</th>\n",
              "      <td>Dallam</td>\n",
              "      <td>DRG</td>\n",
              "      <td>0.391036107</td>\n",
              "      <td>None</td>\n",
              "      <td></td>\n",
              "      <td>004</td>\n",
              "      <td>2.6477391005</td>\n",
              "      <td>None</td>\n",
              "      <td>1964-01-01T08:00:00+00:00</td>\n",
              "      <td>113</td>\n",
              "      <td>113</td>\n",
              "      <td>111</td>\n",
              "      <td>MULTIPOLYGON (((-102.53963 36.05514, -102.5834...</td>\n",
              "    </tr>\n",
              "    <tr>\n",
              "      <th>1</th>\n",
              "      <td>Sherman</td>\n",
              "      <td>DRG</td>\n",
              "      <td>0.23975713465</td>\n",
              "      <td>None</td>\n",
              "      <td></td>\n",
              "      <td>004</td>\n",
              "      <td>1.96801050936</td>\n",
              "      <td>None</td>\n",
              "      <td>1963-01-01T08:00:00+00:00</td>\n",
              "      <td>113</td>\n",
              "      <td>113</td>\n",
              "      <td>421</td>\n",
              "      <td>MULTIPOLYGON (((-101.62344 36.05539, -101.6341...</td>\n",
              "    </tr>\n",
              "    <tr>\n",
              "      <th>2</th>\n",
              "      <td>Hansford</td>\n",
              "      <td>DRG</td>\n",
              "      <td>0.23918797085</td>\n",
              "      <td>None</td>\n",
              "      <td></td>\n",
              "      <td>004</td>\n",
              "      <td>1.96553456688</td>\n",
              "      <td>None</td>\n",
              "      <td>1973-01-01T08:00:00+00:00</td>\n",
              "      <td>113</td>\n",
              "      <td>113</td>\n",
              "      <td>195</td>\n",
              "      <td>MULTIPOLYGON (((-101.08517 36.49986, -101.0851...</td>\n",
              "    </tr>\n",
              "    <tr>\n",
              "      <th>3</th>\n",
              "      <td>Ochiltree</td>\n",
              "      <td>DRG</td>\n",
              "      <td>0.23882832265</td>\n",
              "      <td>None</td>\n",
              "      <td></td>\n",
              "      <td>004</td>\n",
              "      <td>1.96733065435</td>\n",
              "      <td>None</td>\n",
              "      <td>1972-01-01T08:00:00+00:00</td>\n",
              "      <td>113</td>\n",
              "      <td>113</td>\n",
              "      <td>357</td>\n",
              "      <td>MULTIPOLYGON (((-100.54607 36.45957, -100.5461...</td>\n",
              "    </tr>\n",
              "    <tr>\n",
              "      <th>4</th>\n",
              "      <td>Lipscomb</td>\n",
              "      <td>DRG</td>\n",
              "      <td>0.24239659585</td>\n",
              "      <td>None</td>\n",
              "      <td></td>\n",
              "      <td>004</td>\n",
              "      <td>1.97981554464</td>\n",
              "      <td>None</td>\n",
              "      <td>1972-01-01T08:00:00+00:00</td>\n",
              "      <td>113</td>\n",
              "      <td>113</td>\n",
              "      <td>295</td>\n",
              "      <td>MULTIPOLYGON (((-100.54020 36.05599, -100.5462...</td>\n",
              "    </tr>\n",
              "    <tr>\n",
              "      <th>...</th>\n",
              "      <td>...</td>\n",
              "      <td>...</td>\n",
              "      <td>...</td>\n",
              "      <td>...</td>\n",
              "      <td>...</td>\n",
              "      <td>...</td>\n",
              "      <td>...</td>\n",
              "      <td>...</td>\n",
              "      <td>...</td>\n",
              "      <td>...</td>\n",
              "      <td>...</td>\n",
              "      <td>...</td>\n",
              "      <td>...</td>\n",
              "    </tr>\n",
              "    <tr>\n",
              "      <th>249</th>\n",
              "      <td>Crosby</td>\n",
              "      <td>DRG</td>\n",
              "      <td>0.226905027</td>\n",
              "      <td>None</td>\n",
              "      <td></td>\n",
              "      <td>005</td>\n",
              "      <td>1.91322895151</td>\n",
              "      <td>None</td>\n",
              "      <td>1981-01-01T08:00:00+00:00</td>\n",
              "      <td>123</td>\n",
              "      <td>123</td>\n",
              "      <td>107</td>\n",
              "      <td>MULTIPOLYGON (((-101.03881 33.39715, -101.0892...</td>\n",
              "    </tr>\n",
              "    <tr>\n",
              "      <th>250</th>\n",
              "      <td>Dickens</td>\n",
              "      <td>DRG</td>\n",
              "      <td>0.22769896565</td>\n",
              "      <td>None</td>\n",
              "      <td></td>\n",
              "      <td>025</td>\n",
              "      <td>1.9206736086</td>\n",
              "      <td>None</td>\n",
              "      <td>1981-01-01T08:00:00+00:00</td>\n",
              "      <td>123</td>\n",
              "      <td>123</td>\n",
              "      <td>125</td>\n",
              "      <td>MULTIPOLYGON (((-101.04125 33.83363, -101.0006...</td>\n",
              "    </tr>\n",
              "    <tr>\n",
              "      <th>251</th>\n",
              "      <td>King</td>\n",
              "      <td>DRG</td>\n",
              "      <td>0.22995364125</td>\n",
              "      <td>None</td>\n",
              "      <td></td>\n",
              "      <td>025</td>\n",
              "      <td>1.92823583161</td>\n",
              "      <td>None</td>\n",
              "      <td>1966-01-01T08:00:00+00:00</td>\n",
              "      <td>123</td>\n",
              "      <td>123</td>\n",
              "      <td>269</td>\n",
              "      <td>MULTIPOLYGON (((-100.04856 33.83598, -100.0299...</td>\n",
              "    </tr>\n",
              "    <tr>\n",
              "      <th>252</th>\n",
              "      <td>Yoakum</td>\n",
              "      <td>DRG</td>\n",
              "      <td>0.2003603496</td>\n",
              "      <td>None</td>\n",
              "      <td></td>\n",
              "      <td>005</td>\n",
              "      <td>1.79156635058</td>\n",
              "      <td>None</td>\n",
              "      <td>1970-01-01T08:00:00+00:00</td>\n",
              "      <td>123</td>\n",
              "      <td>123</td>\n",
              "      <td>501</td>\n",
              "      <td>MULTIPOLYGON (((-102.59470 33.38834, -102.5947...</td>\n",
              "    </tr>\n",
              "    <tr>\n",
              "      <th>253</th>\n",
              "      <td>Garza</td>\n",
              "      <td>DRG</td>\n",
              "      <td>0.22442207905</td>\n",
              "      <td>None</td>\n",
              "      <td></td>\n",
              "      <td>005</td>\n",
              "      <td>1.89833897599</td>\n",
              "      <td>None</td>\n",
              "      <td>1969-01-01T08:00:00+00:00</td>\n",
              "      <td>123</td>\n",
              "      <td>123</td>\n",
              "      <td>169</td>\n",
              "      <td>MULTIPOLYGON (((-101.17342 32.96360, -101.2404...</td>\n",
              "    </tr>\n",
              "  </tbody>\n",
              "</table>\n",
              "<p>254 rows × 13 columns</p>\n",
              "</div>\n",
              "      <button class=\"colab-df-convert\" onclick=\"convertToInteractive('df-788da25d-3db2-4c00-8865-115ff9d505de')\"\n",
              "              title=\"Convert this dataframe to an interactive table.\"\n",
              "              style=\"display:none;\">\n",
              "        \n",
              "  <svg xmlns=\"http://www.w3.org/2000/svg\" height=\"24px\"viewBox=\"0 0 24 24\"\n",
              "       width=\"24px\">\n",
              "    <path d=\"M0 0h24v24H0V0z\" fill=\"none\"/>\n",
              "    <path d=\"M18.56 5.44l.94 2.06.94-2.06 2.06-.94-2.06-.94-.94-2.06-.94 2.06-2.06.94zm-11 1L8.5 8.5l.94-2.06 2.06-.94-2.06-.94L8.5 2.5l-.94 2.06-2.06.94zm10 10l.94 2.06.94-2.06 2.06-.94-2.06-.94-.94-2.06-.94 2.06-2.06.94z\"/><path d=\"M17.41 7.96l-1.37-1.37c-.4-.4-.92-.59-1.43-.59-.52 0-1.04.2-1.43.59L10.3 9.45l-7.72 7.72c-.78.78-.78 2.05 0 2.83L4 21.41c.39.39.9.59 1.41.59.51 0 1.02-.2 1.41-.59l7.78-7.78 2.81-2.81c.8-.78.8-2.07 0-2.86zM5.41 20L4 18.59l7.72-7.72 1.47 1.35L5.41 20z\"/>\n",
              "  </svg>\n",
              "      </button>\n",
              "      \n",
              "  <style>\n",
              "    .colab-df-container {\n",
              "      display:flex;\n",
              "      flex-wrap:wrap;\n",
              "      gap: 12px;\n",
              "    }\n",
              "\n",
              "    .colab-df-convert {\n",
              "      background-color: #E8F0FE;\n",
              "      border: none;\n",
              "      border-radius: 50%;\n",
              "      cursor: pointer;\n",
              "      display: none;\n",
              "      fill: #1967D2;\n",
              "      height: 32px;\n",
              "      padding: 0 0 0 0;\n",
              "      width: 32px;\n",
              "    }\n",
              "\n",
              "    .colab-df-convert:hover {\n",
              "      background-color: #E2EBFA;\n",
              "      box-shadow: 0px 1px 2px rgba(60, 64, 67, 0.3), 0px 1px 3px 1px rgba(60, 64, 67, 0.15);\n",
              "      fill: #174EA6;\n",
              "    }\n",
              "\n",
              "    [theme=dark] .colab-df-convert {\n",
              "      background-color: #3B4455;\n",
              "      fill: #D2E3FC;\n",
              "    }\n",
              "\n",
              "    [theme=dark] .colab-df-convert:hover {\n",
              "      background-color: #434B5C;\n",
              "      box-shadow: 0px 1px 3px 1px rgba(0, 0, 0, 0.15);\n",
              "      filter: drop-shadow(0px 1px 2px rgba(0, 0, 0, 0.3));\n",
              "      fill: #FFFFFF;\n",
              "    }\n",
              "  </style>\n",
              "\n",
              "      <script>\n",
              "        const buttonEl =\n",
              "          document.querySelector('#df-788da25d-3db2-4c00-8865-115ff9d505de button.colab-df-convert');\n",
              "        buttonEl.style.display =\n",
              "          google.colab.kernel.accessAllowed ? 'block' : 'none';\n",
              "\n",
              "        async function convertToInteractive(key) {\n",
              "          const element = document.querySelector('#df-788da25d-3db2-4c00-8865-115ff9d505de');\n",
              "          const dataTable =\n",
              "            await google.colab.kernel.invokeFunction('convertToInteractive',\n",
              "                                                     [key], {});\n",
              "          if (!dataTable) return;\n",
              "\n",
              "          const docLinkHtml = 'Like what you see? Visit the ' +\n",
              "            '<a target=\"_blank\" href=https://colab.research.google.com/notebooks/data_table.ipynb>data table notebook</a>'\n",
              "            + ' to learn more about interactive tables.';\n",
              "          element.innerHTML = '';\n",
              "          dataTable['output_type'] = 'display_data';\n",
              "          await google.colab.output.renderOutput(dataTable, element);\n",
              "          const docLink = document.createElement('div');\n",
              "          docLink.innerHTML = docLinkHtml;\n",
              "          element.appendChild(docLink);\n",
              "        }\n",
              "      </script>\n",
              "    </div>\n",
              "  </div>\n",
              "  "
            ]
          },
          "metadata": {},
          "execution_count": 61
        }
      ]
    }
  ],
  "metadata": {
    "kernelspec": {
      "display_name": "Python 3",
      "language": "python",
      "name": "python3"
    },
    "language_info": {
      "codemirror_mode": {
        "name": "ipython",
        "version": 3
      },
      "file_extension": ".py",
      "mimetype": "text/x-python",
      "name": "python",
      "nbconvert_exporter": "python",
      "pygments_lexer": "ipython3",
      "version": "3.7.6"
    },
    "colab": {
      "provenance": [],
      "include_colab_link": true
    }
  },
  "nbformat": 4,
  "nbformat_minor": 0
}