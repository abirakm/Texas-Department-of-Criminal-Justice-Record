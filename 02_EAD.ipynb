{
  "cells": [
    {
      "cell_type": "markdown",
      "metadata": {
        "id": "view-in-github",
        "colab_type": "text"
      },
      "source": [
        "<a href=\"https://colab.research.google.com/github/abirakm/Texas-Department-of-Criminal-Justice-Record/blob/main/02_EAD.ipynb\" target=\"_parent\"><img src=\"https://colab.research.google.com/assets/colab-badge.svg\" alt=\"Open In Colab\"/></a>"
      ]
    },
    {
      "cell_type": "code",
      "source": [
        "from google.colab import drive\n",
        "drive.mount(\"/content/drive\")"
      ],
      "metadata": {
        "colab": {
          "base_uri": "https://localhost:8080/"
        },
        "id": "brWJigIg2fqm",
        "outputId": "7ccb2dc0-9ea9-41ca-9667-aee0dcc15289"
      },
      "execution_count": 11,
      "outputs": [
        {
          "output_type": "stream",
          "name": "stdout",
          "text": [
            "Mounted at /content/drive\n"
          ]
        }
      ]
    },
    {
      "cell_type": "code",
      "source": [
        "%cd '/content/drive/MyDrive/Colab Data/TDCJ Data'"
      ],
      "metadata": {
        "id": "rZoMwkYp5BcN",
        "outputId": "18b50142-77f3-4e4f-89a0-8267b61dc8ee",
        "colab": {
          "base_uri": "https://localhost:8080/"
        }
      },
      "execution_count": 17,
      "outputs": [
        {
          "output_type": "stream",
          "name": "stdout",
          "text": [
            "/content/drive/MyDrive/Colab Data/TDCJ Data\n"
          ]
        }
      ]
    },
    {
      "cell_type": "code",
      "execution_count": 19,
      "metadata": {
        "id": "fQmnXPIP11kP"
      },
      "outputs": [],
      "source": [
        "#import necessary libraries\n",
        "import pandas as pd\n",
        "import numpy as np\n",
        "import seaborn as sns\n",
        "import matplotlib.pyplot as plt\n",
        "\n",
        "%matplotlib inline"
      ]
    },
    {
      "cell_type": "code",
      "execution_count": 20,
      "metadata": {
        "colab": {
          "base_uri": "https://localhost:8080/",
          "height": 357
        },
        "id": "7JV3Jpb711kR",
        "outputId": "67c32024-0500-439e-b88b-a9082bd9ee2b"
      },
      "outputs": [
        {
          "output_type": "execute_result",
          "data": {
            "text/plain": [
              "  Inmate_Type Gender Race  County   Offense  Sentence_Years  \\\n",
              "0          ID      M    B  Dallas  Property  21 to 25 Years   \n",
              "1          ID      M    B  Dallas  Property  31 to 40 Years   \n",
              "2          ID      M    B  Dallas  Property  26 to 30 Years   \n",
              "3          ID      M    H   Bexar  Property            Life   \n",
              "4          ID      M    W    Bell  Property            Life   \n",
              "\n",
              "      Offense_Description  Case_Duration_Days  Sentence_Year  Offense_Year  \\\n",
              "0  BURGLARY OF HABITATION                79.0           1983          1983   \n",
              "1  BURGLARY OF HABITATION                50.0           1992          1992   \n",
              "2  BURGLARY OF HABITATION                29.0           1985          1985   \n",
              "3  BURGLARY OF HABITATION                81.0           1986          1986   \n",
              "4  BURGLARY OF HABITATION               218.0           1981          1980   \n",
              "\n",
              "   Age_at_Offence     FIPS    TOT_POP    MalePCT  BlackPCT  HispanicPCT  \n",
              "0              73  48113.0  2453843.0  49.513966      23.0        38.88  \n",
              "1              73  48113.0  2453843.0  49.513966      23.0        38.88  \n",
              "2              72  48113.0  2453843.0  49.513966      23.0        38.88  \n",
              "3              71  48029.0  1785704.0  49.168395       8.0        59.06  \n",
              "4              69  48027.0   323037.0  49.874473      22.0        22.71  "
            ],
            "text/html": [
              "\n",
              "  <div id=\"df-d567c6ef-3874-42a4-aad3-081714df25de\">\n",
              "    <div class=\"colab-df-container\">\n",
              "      <div>\n",
              "<style scoped>\n",
              "    .dataframe tbody tr th:only-of-type {\n",
              "        vertical-align: middle;\n",
              "    }\n",
              "\n",
              "    .dataframe tbody tr th {\n",
              "        vertical-align: top;\n",
              "    }\n",
              "\n",
              "    .dataframe thead th {\n",
              "        text-align: right;\n",
              "    }\n",
              "</style>\n",
              "<table border=\"1\" class=\"dataframe\">\n",
              "  <thead>\n",
              "    <tr style=\"text-align: right;\">\n",
              "      <th></th>\n",
              "      <th>Inmate_Type</th>\n",
              "      <th>Gender</th>\n",
              "      <th>Race</th>\n",
              "      <th>County</th>\n",
              "      <th>Offense</th>\n",
              "      <th>Sentence_Years</th>\n",
              "      <th>Offense_Description</th>\n",
              "      <th>Case_Duration_Days</th>\n",
              "      <th>Sentence_Year</th>\n",
              "      <th>Offense_Year</th>\n",
              "      <th>Age_at_Offence</th>\n",
              "      <th>FIPS</th>\n",
              "      <th>TOT_POP</th>\n",
              "      <th>MalePCT</th>\n",
              "      <th>BlackPCT</th>\n",
              "      <th>HispanicPCT</th>\n",
              "    </tr>\n",
              "  </thead>\n",
              "  <tbody>\n",
              "    <tr>\n",
              "      <th>0</th>\n",
              "      <td>ID</td>\n",
              "      <td>M</td>\n",
              "      <td>B</td>\n",
              "      <td>Dallas</td>\n",
              "      <td>Property</td>\n",
              "      <td>21 to 25 Years</td>\n",
              "      <td>BURGLARY OF HABITATION</td>\n",
              "      <td>79.0</td>\n",
              "      <td>1983</td>\n",
              "      <td>1983</td>\n",
              "      <td>73</td>\n",
              "      <td>48113.0</td>\n",
              "      <td>2453843.0</td>\n",
              "      <td>49.513966</td>\n",
              "      <td>23.0</td>\n",
              "      <td>38.88</td>\n",
              "    </tr>\n",
              "    <tr>\n",
              "      <th>1</th>\n",
              "      <td>ID</td>\n",
              "      <td>M</td>\n",
              "      <td>B</td>\n",
              "      <td>Dallas</td>\n",
              "      <td>Property</td>\n",
              "      <td>31 to 40 Years</td>\n",
              "      <td>BURGLARY OF HABITATION</td>\n",
              "      <td>50.0</td>\n",
              "      <td>1992</td>\n",
              "      <td>1992</td>\n",
              "      <td>73</td>\n",
              "      <td>48113.0</td>\n",
              "      <td>2453843.0</td>\n",
              "      <td>49.513966</td>\n",
              "      <td>23.0</td>\n",
              "      <td>38.88</td>\n",
              "    </tr>\n",
              "    <tr>\n",
              "      <th>2</th>\n",
              "      <td>ID</td>\n",
              "      <td>M</td>\n",
              "      <td>B</td>\n",
              "      <td>Dallas</td>\n",
              "      <td>Property</td>\n",
              "      <td>26 to 30 Years</td>\n",
              "      <td>BURGLARY OF HABITATION</td>\n",
              "      <td>29.0</td>\n",
              "      <td>1985</td>\n",
              "      <td>1985</td>\n",
              "      <td>72</td>\n",
              "      <td>48113.0</td>\n",
              "      <td>2453843.0</td>\n",
              "      <td>49.513966</td>\n",
              "      <td>23.0</td>\n",
              "      <td>38.88</td>\n",
              "    </tr>\n",
              "    <tr>\n",
              "      <th>3</th>\n",
              "      <td>ID</td>\n",
              "      <td>M</td>\n",
              "      <td>H</td>\n",
              "      <td>Bexar</td>\n",
              "      <td>Property</td>\n",
              "      <td>Life</td>\n",
              "      <td>BURGLARY OF HABITATION</td>\n",
              "      <td>81.0</td>\n",
              "      <td>1986</td>\n",
              "      <td>1986</td>\n",
              "      <td>71</td>\n",
              "      <td>48029.0</td>\n",
              "      <td>1785704.0</td>\n",
              "      <td>49.168395</td>\n",
              "      <td>8.0</td>\n",
              "      <td>59.06</td>\n",
              "    </tr>\n",
              "    <tr>\n",
              "      <th>4</th>\n",
              "      <td>ID</td>\n",
              "      <td>M</td>\n",
              "      <td>W</td>\n",
              "      <td>Bell</td>\n",
              "      <td>Property</td>\n",
              "      <td>Life</td>\n",
              "      <td>BURGLARY OF HABITATION</td>\n",
              "      <td>218.0</td>\n",
              "      <td>1981</td>\n",
              "      <td>1980</td>\n",
              "      <td>69</td>\n",
              "      <td>48027.0</td>\n",
              "      <td>323037.0</td>\n",
              "      <td>49.874473</td>\n",
              "      <td>22.0</td>\n",
              "      <td>22.71</td>\n",
              "    </tr>\n",
              "  </tbody>\n",
              "</table>\n",
              "</div>\n",
              "      <button class=\"colab-df-convert\" onclick=\"convertToInteractive('df-d567c6ef-3874-42a4-aad3-081714df25de')\"\n",
              "              title=\"Convert this dataframe to an interactive table.\"\n",
              "              style=\"display:none;\">\n",
              "        \n",
              "  <svg xmlns=\"http://www.w3.org/2000/svg\" height=\"24px\"viewBox=\"0 0 24 24\"\n",
              "       width=\"24px\">\n",
              "    <path d=\"M0 0h24v24H0V0z\" fill=\"none\"/>\n",
              "    <path d=\"M18.56 5.44l.94 2.06.94-2.06 2.06-.94-2.06-.94-.94-2.06-.94 2.06-2.06.94zm-11 1L8.5 8.5l.94-2.06 2.06-.94-2.06-.94L8.5 2.5l-.94 2.06-2.06.94zm10 10l.94 2.06.94-2.06 2.06-.94-2.06-.94-.94-2.06-.94 2.06-2.06.94z\"/><path d=\"M17.41 7.96l-1.37-1.37c-.4-.4-.92-.59-1.43-.59-.52 0-1.04.2-1.43.59L10.3 9.45l-7.72 7.72c-.78.78-.78 2.05 0 2.83L4 21.41c.39.39.9.59 1.41.59.51 0 1.02-.2 1.41-.59l7.78-7.78 2.81-2.81c.8-.78.8-2.07 0-2.86zM5.41 20L4 18.59l7.72-7.72 1.47 1.35L5.41 20z\"/>\n",
              "  </svg>\n",
              "      </button>\n",
              "      \n",
              "  <style>\n",
              "    .colab-df-container {\n",
              "      display:flex;\n",
              "      flex-wrap:wrap;\n",
              "      gap: 12px;\n",
              "    }\n",
              "\n",
              "    .colab-df-convert {\n",
              "      background-color: #E8F0FE;\n",
              "      border: none;\n",
              "      border-radius: 50%;\n",
              "      cursor: pointer;\n",
              "      display: none;\n",
              "      fill: #1967D2;\n",
              "      height: 32px;\n",
              "      padding: 0 0 0 0;\n",
              "      width: 32px;\n",
              "    }\n",
              "\n",
              "    .colab-df-convert:hover {\n",
              "      background-color: #E2EBFA;\n",
              "      box-shadow: 0px 1px 2px rgba(60, 64, 67, 0.3), 0px 1px 3px 1px rgba(60, 64, 67, 0.15);\n",
              "      fill: #174EA6;\n",
              "    }\n",
              "\n",
              "    [theme=dark] .colab-df-convert {\n",
              "      background-color: #3B4455;\n",
              "      fill: #D2E3FC;\n",
              "    }\n",
              "\n",
              "    [theme=dark] .colab-df-convert:hover {\n",
              "      background-color: #434B5C;\n",
              "      box-shadow: 0px 1px 3px 1px rgba(0, 0, 0, 0.15);\n",
              "      filter: drop-shadow(0px 1px 2px rgba(0, 0, 0, 0.3));\n",
              "      fill: #FFFFFF;\n",
              "    }\n",
              "  </style>\n",
              "\n",
              "      <script>\n",
              "        const buttonEl =\n",
              "          document.querySelector('#df-d567c6ef-3874-42a4-aad3-081714df25de button.colab-df-convert');\n",
              "        buttonEl.style.display =\n",
              "          google.colab.kernel.accessAllowed ? 'block' : 'none';\n",
              "\n",
              "        async function convertToInteractive(key) {\n",
              "          const element = document.querySelector('#df-d567c6ef-3874-42a4-aad3-081714df25de');\n",
              "          const dataTable =\n",
              "            await google.colab.kernel.invokeFunction('convertToInteractive',\n",
              "                                                     [key], {});\n",
              "          if (!dataTable) return;\n",
              "\n",
              "          const docLinkHtml = 'Like what you see? Visit the ' +\n",
              "            '<a target=\"_blank\" href=https://colab.research.google.com/notebooks/data_table.ipynb>data table notebook</a>'\n",
              "            + ' to learn more about interactive tables.';\n",
              "          element.innerHTML = '';\n",
              "          dataTable['output_type'] = 'display_data';\n",
              "          await google.colab.output.renderOutput(dataTable, element);\n",
              "          const docLink = document.createElement('div');\n",
              "          docLink.innerHTML = docLinkHtml;\n",
              "          element.appendChild(docLink);\n",
              "        }\n",
              "      </script>\n",
              "    </div>\n",
              "  </div>\n",
              "  "
            ]
          },
          "metadata": {},
          "execution_count": 20
        }
      ],
      "source": [
        "# Read Clean Data and replace space in column name with a underscore\n",
        "TDCJ_Data = pd.read_csv(\"TDCJ_Data_clean.csv\")\n",
        "TDCJ_Data.head()"
      ]
    },
    {
      "cell_type": "markdown",
      "metadata": {
        "id": "Bk80M4rK11kS"
      },
      "source": [
        "Let's Plot Bar chart for Categorical Data"
      ]
    },
    {
      "cell_type": "code",
      "execution_count": 21,
      "metadata": {
        "colab": {
          "base_uri": "https://localhost:8080/"
        },
        "id": "tKOeCq_L11kT",
        "outputId": "19e0411f-f11a-48e8-8d5c-2c8d039d03c9"
      },
      "outputs": [
        {
          "output_type": "stream",
          "name": "stdout",
          "text": [
            "<class 'pandas.core.frame.DataFrame'>\n",
            "RangeIndex: 91148 entries, 0 to 91147\n",
            "Data columns (total 16 columns):\n",
            " #   Column               Non-Null Count  Dtype  \n",
            "---  ------               --------------  -----  \n",
            " 0   Inmate_Type          91148 non-null  object \n",
            " 1   Gender               91148 non-null  object \n",
            " 2   Race                 91148 non-null  object \n",
            " 3   County               91148 non-null  object \n",
            " 4   Offense              91148 non-null  object \n",
            " 5   Sentence_Years       91148 non-null  object \n",
            " 6   Offense_Description  91148 non-null  object \n",
            " 7   Case_Duration_Days   91148 non-null  float64\n",
            " 8   Sentence_Year        91148 non-null  int64  \n",
            " 9   Offense_Year         91148 non-null  int64  \n",
            " 10  Age_at_Offence       91148 non-null  int64  \n",
            " 11  FIPS                 91037 non-null  float64\n",
            " 12  TOT_POP              91037 non-null  float64\n",
            " 13  MalePCT              91037 non-null  float64\n",
            " 14  BlackPCT             91037 non-null  float64\n",
            " 15  HispanicPCT          91037 non-null  float64\n",
            "dtypes: float64(6), int64(3), object(7)\n",
            "memory usage: 11.1+ MB\n"
          ]
        }
      ],
      "source": [
        "TDCJ_Data.info()"
      ]
    },
    {
      "cell_type": "code",
      "execution_count": 22,
      "metadata": {
        "colab": {
          "base_uri": "https://localhost:8080/",
          "height": 297
        },
        "id": "wyaoiBPK11kU",
        "outputId": "8ed55184-9d28-408e-f74b-6a0910d48ff1"
      },
      "outputs": [
        {
          "output_type": "execute_result",
          "data": {
            "text/plain": [
              "<matplotlib.axes._subplots.AxesSubplot at 0x7f2d92005510>"
            ]
          },
          "metadata": {},
          "execution_count": 22
        },
        {
          "output_type": "display_data",
          "data": {
            "text/plain": [
              "<Figure size 432x288 with 1 Axes>"
            ],
            "image/png": "[encoded data removed]"
          },
          "metadata": {
            "needs_background": "light"
          }
        }
      ],
      "source": [
        "sns.histplot(TDCJ_Data[\"Inmate_Type\"])"
      ]
    },
    {
      "cell_type": "code",
      "execution_count": 23,
      "metadata": {
        "colab": {
          "base_uri": "https://localhost:8080/",
          "height": 299
        },
        "id": "whyZ7AVX11kU",
        "outputId": "6ac180b2-1f12-4eaa-ff09-8c497945d88e"
      },
      "outputs": [
        {
          "output_type": "execute_result",
          "data": {
            "text/plain": [
              "<matplotlib.axes._subplots.AxesSubplot at 0x7f2d916318d0>"
            ]
          },
          "metadata": {},
          "execution_count": 23
        },
        {
          "output_type": "display_data",
          "data": {
            "text/plain": [
              "<Figure size 432x288 with 1 Axes>"
            ],
            "image/png": "[encoded data removed]"
          },
          "metadata": {
            "needs_background": "light"
          }
        }
      ],
      "source": [
        "sns.histplot(TDCJ_Data[\"Gender\"])"
      ]
    },
    {
      "cell_type": "code",
      "execution_count": 24,
      "metadata": {
        "colab": {
          "base_uri": "https://localhost:8080/",
          "height": 296
        },
        "id": "fr4VV2cK11kU",
        "outputId": "0c31a3c5-129e-4118-ab31-67b4de89e606"
      },
      "outputs": [
        {
          "output_type": "execute_result",
          "data": {
            "text/plain": [
              "<matplotlib.axes._subplots.AxesSubplot at 0x7f2d917187d0>"
            ]
          },
          "metadata": {},
          "execution_count": 24
        },
        {
          "output_type": "display_data",
          "data": {
            "text/plain": [
              "<Figure size 432x288 with 1 Axes>"
            ],
            "image/png": "[encoded data removed]"
          },
          "metadata": {
            "needs_background": "light"
          }
        }
      ],
      "source": [
        "sns.histplot(TDCJ_Data[\"Race\"])"
      ]
    },
    {
      "cell_type": "code",
      "execution_count": 25,
      "metadata": {
        "colab": {
          "base_uri": "https://localhost:8080/"
        },
        "id": "2_037quo11kV",
        "outputId": "44730ead-a617-444d-9737-04e3b2ab95ab"
      },
      "outputs": [
        {
          "output_type": "execute_result",
          "data": {
            "text/plain": [
              "County\n",
              "Harris        11435\n",
              "Tarrant        7577\n",
              "Bexar          6490\n",
              "Dallas         5638\n",
              "Hidalgo        2561\n",
              "              ...  \n",
              "Glasscock         2\n",
              "Roberts           2\n",
              "Jeff Davis        2\n",
              "Briscoe           1\n",
              "Loving            1\n",
              "Name: County, Length: 252, dtype: int64"
            ]
          },
          "metadata": {},
          "execution_count": 25
        }
      ],
      "source": [
        "TDCJ_Data.groupby('County')['County'].count().sort_values(ascending=False)"
      ]
    },
    {
      "cell_type": "code",
      "execution_count": 26,
      "metadata": {
        "colab": {
          "base_uri": "https://localhost:8080/"
        },
        "id": "gx40d8GC11kV",
        "outputId": "dac1c32c-5dca-421e-9de5-5c269d32f3cc"
      },
      "outputs": [
        {
          "output_type": "execute_result",
          "data": {
            "text/plain": [
              "Sentence_Years\n",
              "2 Years & Less            15033\n",
              "3 Years                   10078\n",
              "5 Years                    8620\n",
              "4 Years                    7621\n",
              "6 Months & Less            6527\n",
              "11 to 12 Months            4360\n",
              "10 Years                   4312\n",
              "11 to 15 Years             3863\n",
              "6 Years                    3426\n",
              "8 Years                    3182\n",
              "7 Years                    2595\n",
              "8 to 9 Months              2414\n",
              "16 to 20 Years             2085\n",
              "7 to 8 Months              1647\n",
              "9 to 10 Months             1615\n",
              "17 to 18 Months            1441\n",
              "21 to 25 Years             1398\n",
              "14 to 15 Months            1386\n",
              "6 to 7 Months              1238\n",
              "SAFPF                      1193\n",
              "23 to 24 Months & More     1044\n",
              "31 to 40 Years              953\n",
              "26 to 30 Years              796\n",
              "13 to 14 Months             678\n",
              "9 Years                     551\n",
              "41 to 59 Years              506\n",
              "15 to 16 Months             450\n",
              "19 to 20 Months             437\n",
              "60 Years +                  388\n",
              "Life                        326\n",
              "10 to 11 Months             286\n",
              "12 to 13 Months             240\n",
              "Life w/o Parole             157\n",
              "16 to 17 Months              98\n",
              "21 to 22 Months              87\n",
              "18 to 19 Months              41\n",
              "20 to 21 Months              39\n",
              "22 to 23 Months              15\n",
              "Capital Life                 14\n",
              "Death                         8\n",
              "Name: Sentence_Years, dtype: int64"
            ]
          },
          "metadata": {},
          "execution_count": 26
        }
      ],
      "source": [
        "TDCJ_Data.groupby('Sentence_Years')['Sentence_Years'].count().sort_values(ascending=False)"
      ]
    },
    {
      "cell_type": "code",
      "execution_count": 27,
      "metadata": {
        "colab": {
          "base_uri": "https://localhost:8080/"
        },
        "id": "CBahT31c11kW",
        "outputId": "3b146832-974e-4f9b-ef99-e923f9ee6420"
      },
      "outputs": [
        {
          "output_type": "execute_result",
          "data": {
            "text/plain": [
              "Sentence_Year\n",
              "2019    42950\n",
              "2018    22163\n",
              "2020     9592\n",
              "2017     3459\n",
              "2016     2809\n",
              "2015     2174\n",
              "2014     1643\n",
              "2013     1194\n",
              "2012      889\n",
              "2011      695\n",
              "2010      506\n",
              "2009      389\n",
              "2008      270\n",
              "2007      215\n",
              "1992      180\n",
              "2005      165\n",
              "1993      161\n",
              "2006      157\n",
              "1994      135\n",
              "1991      131\n",
              "2004      120\n",
              "2003      114\n",
              "1990      110\n",
              "1989       89\n",
              "2002       89\n",
              "1999       88\n",
              "2001       85\n",
              "1995       84\n",
              "2000       78\n",
              "1996       61\n",
              "1997       58\n",
              "1998       52\n",
              "1988       51\n",
              "1987       43\n",
              "1985       32\n",
              "1986       28\n",
              "1984       18\n",
              "1983       17\n",
              "1981       12\n",
              "1979       10\n",
              "1978        9\n",
              "1982        7\n",
              "1980        5\n",
              "1977        3\n",
              "1971        3\n",
              "1975        2\n",
              "1974        2\n",
              "1973        1\n",
              "Name: Sentence_Year, dtype: int64"
            ]
          },
          "metadata": {},
          "execution_count": 27
        }
      ],
      "source": [
        "TDCJ_Data.groupby('Sentence_Year')['Sentence_Year'].count().sort_values(ascending=False)"
      ]
    },
    {
      "cell_type": "code",
      "execution_count": 28,
      "metadata": {
        "colab": {
          "base_uri": "https://localhost:8080/"
        },
        "id": "V_VZHWm811kW",
        "outputId": "12a453a4-8b84-4cc5-ed15-a23e8161226d"
      },
      "outputs": [
        {
          "output_type": "execute_result",
          "data": {
            "text/plain": [
              "count    91148.000000\n",
              "mean       542.854314\n",
              "std        657.680777\n",
              "min          1.000000\n",
              "25%        169.000000\n",
              "50%        330.000000\n",
              "75%        652.000000\n",
              "max      13914.000000\n",
              "Name: Case_Duration_Days, dtype: float64"
            ]
          },
          "metadata": {},
          "execution_count": 28
        }
      ],
      "source": [
        "TDCJ_Data.Case_Duration_Days.describe()"
      ]
    }
  ],
  "metadata": {
    "kernelspec": {
      "display_name": "Python 3",
      "language": "python",
      "name": "python3"
    },
    "language_info": {
      "codemirror_mode": {
        "name": "ipython",
        "version": 3
      },
      "file_extension": ".py",
      "mimetype": "text/x-python",
      "name": "python",
      "nbconvert_exporter": "python",
      "pygments_lexer": "ipython3",
      "version": "3.7.6"
    },
    "colab": {
      "provenance": [],
      "include_colab_link": true
    }
  },
  "nbformat": 4,
  "nbformat_minor": 0
}