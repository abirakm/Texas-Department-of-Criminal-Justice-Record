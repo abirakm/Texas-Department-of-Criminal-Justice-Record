{
  "nbformat": 4,
  "nbformat_minor": 0,
  "metadata": {
    "colab": {
      "provenance": [],
      "authorship_tag": "ABX9TyPbWe0WH2NogrrVn7nFw6/w",
      "include_colab_link": true
    },
    "kernelspec": {
      "name": "python3",
      "display_name": "Python 3"
    },
    "language_info": {
      "name": "python"
    }
  },
  "cells": [
    {
      "cell_type": "markdown",
      "metadata": {
        "id": "view-in-github",
        "colab_type": "text"
      },
      "source": [
        "<a href=\"https://colab.research.google.com/github/abirakm/Texas-Department-of-Criminal-Justice-Record/blob/main/03_Model_Case_Duration_Days_GLM.ipynb\" target=\"_parent\"><img src=\"https://colab.research.google.com/assets/colab-badge.svg\" alt=\"Open In Colab\"/></a>"
      ]
    },
    {
      "cell_type": "code",
      "execution_count": 6,
      "metadata": {
        "id": "c4dfPfPjFyjO"
      },
      "outputs": [],
      "source": [
        "#import necessary libraries\n",
        "import pandas as pd\n",
        "import numpy as np\n",
        "import seaborn as sns\n",
        "import matplotlib.pyplot as plt\n",
        "%matplotlib inline"
      ]
    },
    {
      "cell_type": "code",
      "source": [
        "# Read Clean Data and replace space in column name with a underscore\n",
        "TDCJ_Data = pd.read_csv(\"https://raw.githubusercontent.com/abirakm/Texas-Department-of-Criminal-Justice-Record/main/TDCJ_Data_clean.csv\")\n",
        "TDCJ_Data.head()"
      ],
      "metadata": {
        "colab": {
          "base_uri": "https://localhost:8080/",
          "height": 206
        },
        "id": "xvwVx5bqGAxu",
        "outputId": "ab609511-a5b0-4c96-e894-1551225725ad"
      },
      "execution_count": 7,
      "outputs": [
        {
          "output_type": "execute_result",
          "data": {
            "text/plain": [
              "  Inmate_Type Gender Race  County   Offense   Sentence_Type  \\\n",
              "0          ID      M    B  Dallas  Property  21 to 25 Years   \n",
              "1          ID      M    B  Dallas  Property  31 to 40 Years   \n",
              "2          ID      M    B  Dallas  Property  26 to 30 Years   \n",
              "3          ID      M    H   Bexar  Property            Life   \n",
              "4          ID      M    W    Bell  Property            Life   \n",
              "\n",
              "      Offense_Description  Case_Duration_Days  Sentence_Year  Offense_Year  \\\n",
              "0  BURGLARY OF HABITATION                79.0           1983          1983   \n",
              "1  BURGLARY OF HABITATION                50.0           1992          1992   \n",
              "2  BURGLARY OF HABITATION                29.0           1985          1985   \n",
              "3  BURGLARY OF HABITATION                81.0           1986          1986   \n",
              "4  BURGLARY OF HABITATION               218.0           1981          1980   \n",
              "\n",
              "   Age_at_Offence   FIPS  TOT_POP    MalePCT  BlackPCT  HispanicPCT  \n",
              "0              73  48113  2453843  49.513966      23.0        38.88  \n",
              "1              73  48113  2453843  49.513966      23.0        38.88  \n",
              "2              72  48113  2453843  49.513966      23.0        38.88  \n",
              "3              71  48029  1785704  49.168395       8.0        59.06  \n",
              "4              69  48027   323037  49.874473      22.0        22.71  "
            ],
            "text/html": [
              "\n",
              "  <div id=\"df-04a5e3fa-73e6-4bab-a746-b37b37e4c43d\">\n",
              "    <div class=\"colab-df-container\">\n",
              "      <div>\n",
              "<style scoped>\n",
              "    .dataframe tbody tr th:only-of-type {\n",
              "        vertical-align: middle;\n",
              "    }\n",
              "\n",
              "    .dataframe tbody tr th {\n",
              "        vertical-align: top;\n",
              "    }\n",
              "\n",
              "    .dataframe thead th {\n",
              "        text-align: right;\n",
              "    }\n",
              "</style>\n",
              "<table border=\"1\" class=\"dataframe\">\n",
              "  <thead>\n",
              "    <tr style=\"text-align: right;\">\n",
              "      <th></th>\n",
              "      <th>Inmate_Type</th>\n",
              "      <th>Gender</th>\n",
              "      <th>Race</th>\n",
              "      <th>County</th>\n",
              "      <th>Offense</th>\n",
              "      <th>Sentence_Type</th>\n",
              "      <th>Offense_Description</th>\n",
              "      <th>Case_Duration_Days</th>\n",
              "      <th>Sentence_Year</th>\n",
              "      <th>Offense_Year</th>\n",
              "      <th>Age_at_Offence</th>\n",
              "      <th>FIPS</th>\n",
              "      <th>TOT_POP</th>\n",
              "      <th>MalePCT</th>\n",
              "      <th>BlackPCT</th>\n",
              "      <th>HispanicPCT</th>\n",
              "    </tr>\n",
              "  </thead>\n",
              "  <tbody>\n",
              "    <tr>\n",
              "      <th>0</th>\n",
              "      <td>ID</td>\n",
              "      <td>M</td>\n",
              "      <td>B</td>\n",
              "      <td>Dallas</td>\n",
              "      <td>Property</td>\n",
              "      <td>21 to 25 Years</td>\n",
              "      <td>BURGLARY OF HABITATION</td>\n",
              "      <td>79.0</td>\n",
              "      <td>1983</td>\n",
              "      <td>1983</td>\n",
              "      <td>73</td>\n",
              "      <td>48113</td>\n",
              "      <td>2453843</td>\n",
              "      <td>49.513966</td>\n",
              "      <td>23.0</td>\n",
              "      <td>38.88</td>\n",
              "    </tr>\n",
              "    <tr>\n",
              "      <th>1</th>\n",
              "      <td>ID</td>\n",
              "      <td>M</td>\n",
              "      <td>B</td>\n",
              "      <td>Dallas</td>\n",
              "      <td>Property</td>\n",
              "      <td>31 to 40 Years</td>\n",
              "      <td>BURGLARY OF HABITATION</td>\n",
              "      <td>50.0</td>\n",
              "      <td>1992</td>\n",
              "      <td>1992</td>\n",
              "      <td>73</td>\n",
              "      <td>48113</td>\n",
              "      <td>2453843</td>\n",
              "      <td>49.513966</td>\n",
              "      <td>23.0</td>\n",
              "      <td>38.88</td>\n",
              "    </tr>\n",
              "    <tr>\n",
              "      <th>2</th>\n",
              "      <td>ID</td>\n",
              "      <td>M</td>\n",
              "      <td>B</td>\n",
              "      <td>Dallas</td>\n",
              "      <td>Property</td>\n",
              "      <td>26 to 30 Years</td>\n",
              "      <td>BURGLARY OF HABITATION</td>\n",
              "      <td>29.0</td>\n",
              "      <td>1985</td>\n",
              "      <td>1985</td>\n",
              "      <td>72</td>\n",
              "      <td>48113</td>\n",
              "      <td>2453843</td>\n",
              "      <td>49.513966</td>\n",
              "      <td>23.0</td>\n",
              "      <td>38.88</td>\n",
              "    </tr>\n",
              "    <tr>\n",
              "      <th>3</th>\n",
              "      <td>ID</td>\n",
              "      <td>M</td>\n",
              "      <td>H</td>\n",
              "      <td>Bexar</td>\n",
              "      <td>Property</td>\n",
              "      <td>Life</td>\n",
              "      <td>BURGLARY OF HABITATION</td>\n",
              "      <td>81.0</td>\n",
              "      <td>1986</td>\n",
              "      <td>1986</td>\n",
              "      <td>71</td>\n",
              "      <td>48029</td>\n",
              "      <td>1785704</td>\n",
              "      <td>49.168395</td>\n",
              "      <td>8.0</td>\n",
              "      <td>59.06</td>\n",
              "    </tr>\n",
              "    <tr>\n",
              "      <th>4</th>\n",
              "      <td>ID</td>\n",
              "      <td>M</td>\n",
              "      <td>W</td>\n",
              "      <td>Bell</td>\n",
              "      <td>Property</td>\n",
              "      <td>Life</td>\n",
              "      <td>BURGLARY OF HABITATION</td>\n",
              "      <td>218.0</td>\n",
              "      <td>1981</td>\n",
              "      <td>1980</td>\n",
              "      <td>69</td>\n",
              "      <td>48027</td>\n",
              "      <td>323037</td>\n",
              "      <td>49.874473</td>\n",
              "      <td>22.0</td>\n",
              "      <td>22.71</td>\n",
              "    </tr>\n",
              "  </tbody>\n",
              "</table>\n",
              "</div>\n",
              "      <button class=\"colab-df-convert\" onclick=\"convertToInteractive('df-04a5e3fa-73e6-4bab-a746-b37b37e4c43d')\"\n",
              "              title=\"Convert this dataframe to an interactive table.\"\n",
              "              style=\"display:none;\">\n",
              "        \n",
              "  <svg xmlns=\"http://www.w3.org/2000/svg\" height=\"24px\"viewBox=\"0 0 24 24\"\n",
              "       width=\"24px\">\n",
              "    <path d=\"M0 0h24v24H0V0z\" fill=\"none\"/>\n",
              "    <path d=\"M18.56 5.44l.94 2.06.94-2.06 2.06-.94-2.06-.94-.94-2.06-.94 2.06-2.06.94zm-11 1L8.5 8.5l.94-2.06 2.06-.94-2.06-.94L8.5 2.5l-.94 2.06-2.06.94zm10 10l.94 2.06.94-2.06 2.06-.94-2.06-.94-.94-2.06-.94 2.06-2.06.94z\"/><path d=\"M17.41 7.96l-1.37-1.37c-.4-.4-.92-.59-1.43-.59-.52 0-1.04.2-1.43.59L10.3 9.45l-7.72 7.72c-.78.78-.78 2.05 0 2.83L4 21.41c.39.39.9.59 1.41.59.51 0 1.02-.2 1.41-.59l7.78-7.78 2.81-2.81c.8-.78.8-2.07 0-2.86zM5.41 20L4 18.59l7.72-7.72 1.47 1.35L5.41 20z\"/>\n",
              "  </svg>\n",
              "      </button>\n",
              "      \n",
              "  <style>\n",
              "    .colab-df-container {\n",
              "      display:flex;\n",
              "      flex-wrap:wrap;\n",
              "      gap: 12px;\n",
              "    }\n",
              "\n",
              "    .colab-df-convert {\n",
              "      background-color: #E8F0FE;\n",
              "      border: none;\n",
              "      border-radius: 50%;\n",
              "      cursor: pointer;\n",
              "      display: none;\n",
              "      fill: #1967D2;\n",
              "      height: 32px;\n",
              "      padding: 0 0 0 0;\n",
              "      width: 32px;\n",
              "    }\n",
              "\n",
              "    .colab-df-convert:hover {\n",
              "      background-color: #E2EBFA;\n",
              "      box-shadow: 0px 1px 2px rgba(60, 64, 67, 0.3), 0px 1px 3px 1px rgba(60, 64, 67, 0.15);\n",
              "      fill: #174EA6;\n",
              "    }\n",
              "\n",
              "    [theme=dark] .colab-df-convert {\n",
              "      background-color: #3B4455;\n",
              "      fill: #D2E3FC;\n",
              "    }\n",
              "\n",
              "    [theme=dark] .colab-df-convert:hover {\n",
              "      background-color: #434B5C;\n",
              "      box-shadow: 0px 1px 3px 1px rgba(0, 0, 0, 0.15);\n",
              "      filter: drop-shadow(0px 1px 2px rgba(0, 0, 0, 0.3));\n",
              "      fill: #FFFFFF;\n",
              "    }\n",
              "  </style>\n",
              "\n",
              "      <script>\n",
              "        const buttonEl =\n",
              "          document.querySelector('#df-04a5e3fa-73e6-4bab-a746-b37b37e4c43d button.colab-df-convert');\n",
              "        buttonEl.style.display =\n",
              "          google.colab.kernel.accessAllowed ? 'block' : 'none';\n",
              "\n",
              "        async function convertToInteractive(key) {\n",
              "          const element = document.querySelector('#df-04a5e3fa-73e6-4bab-a746-b37b37e4c43d');\n",
              "          const dataTable =\n",
              "            await google.colab.kernel.invokeFunction('convertToInteractive',\n",
              "                                                     [key], {});\n",
              "          if (!dataTable) return;\n",
              "\n",
              "          const docLinkHtml = 'Like what you see? Visit the ' +\n",
              "            '<a target=\"_blank\" href=https://colab.research.google.com/notebooks/data_table.ipynb>data table notebook</a>'\n",
              "            + ' to learn more about interactive tables.';\n",
              "          element.innerHTML = '';\n",
              "          dataTable['output_type'] = 'display_data';\n",
              "          await google.colab.output.renderOutput(dataTable, element);\n",
              "          const docLink = document.createElement('div');\n",
              "          docLink.innerHTML = docLinkHtml;\n",
              "          element.appendChild(docLink);\n",
              "        }\n",
              "      </script>\n",
              "    </div>\n",
              "  </div>\n",
              "  "
            ]
          },
          "metadata": {},
          "execution_count": 7
        }
      ]
    },
    {
      "cell_type": "markdown",
      "source": [
        "As from the EDA we see that the Case_Duration_Days variable is right skewed. A linear regression model might not be a good choice. One approach for modeling a numerical value with a right-skewed distribution is to use a transformation to make the data more normally distributed. Some common transformations include taking the log, square root, or reciprocal of the values. Another approach is to use a distribution that is more suitable for modeling right-skewed data, such as the gamma distribution or the beta distribution.\n",
        "\n",
        "A common approach is to use a GLM with a gamma distribution and a log-link function, which can model right-skewed continuous data. The model can be specified as:\n",
        "\n",
        "y = exp(beta_0 + beta_1x1 + ... + beta_pxp)\n",
        "\n",
        "where y is the outcome variable, x1, x2, ..., xp are the independent variables, beta_0 is the intercept, and beta_1, beta_2, ..., beta_p are the coefficients for the independent variables.\n",
        "\n",
        "For the categorical independent variables, you can include them as dummy variables in the model.\n",
        "\n",
        "Finally, when model is fitted, you can use the predict method to predict the y values using the independent variables."
      ],
      "metadata": {
        "id": "GImRIJrAGUCH"
      }
    },
    {
      "cell_type": "markdown",
      "source": [
        "Generalized Linear Models (GLMs) make certain assumptions about the data and the relationship between the outcome variable and the independent variables. These assumptions include:\n",
        "\n",
        "Linearity of the predictor variables: GLMs assume that the relationship between the predictor variables and the outcome variable is linear, which can be established through visualizing the relationship using scatter plots or fitting a linear model and looking at the residuals.\n",
        "\n",
        "Independence of observations: GLMs assume that the observations are independent of one another, and that there is no correlation between observations.\n",
        "\n",
        "Normality of the errors: GLMs assume that the errors (or residuals) are normally distributed. This assumption can be checked by looking at a histogram of the residuals and a normal probability plot.\n",
        "\n",
        "Constant variance of the errors: GLMs assume that the variance of the errors is constant across the range of the predictor variables. This assumption can be checked by looking at a plot of the residuals against the predicted values.\n",
        "\n",
        "Outcome variable follows a probability distribution from the exponential family: GLM assume that the outcome variable follows a probability distribution from the exponential family, such as normal, binomial, Poisson and etc.\n",
        "\n",
        "It's important to check these assumptions before fitting a GLM model and if the assumption is not met, either data transformation or different model should be considered."
      ],
      "metadata": {
        "id": "_egeYwr0G7hj"
      }
    },
    {
      "cell_type": "code",
      "source": [
        "from sklearn import linear_model\n",
        "from sklearn.metrics import mean_squared_error\n",
        "from sklearn.model_selection import train_test_split, GridSearchCV\n",
        "from sklearn.preprocessing import StandardScaler, OneHotEncoder\n",
        "from scipy import stats"
      ],
      "metadata": {
        "id": "PwQM7j5XG6bg"
      },
      "execution_count": 8,
      "outputs": []
    },
    {
      "cell_type": "code",
      "source": [
        "# Define the predictor variables\n",
        "X = TDCJ_Data[['Inmate_Type','Gender','Race','County','Offense','Sentence_Type','Offense_Description','Sentence_Year','Offense_Year','Age_at_Offence','TOT_POP','MalePCT','BlackPCT','HispanicPCT']]\n",
        "\n",
        "# Define the outcome variable\n",
        "y = TDCJ_Data['Case_Duration_Days']\n",
        "\n",
        "# Split the data into training and test sets\n",
        "X_train, X_test, y_train, y_test = train_test_split(X, y, test_size=0.2, random_state=42)\n",
        "\n",
        "# Preprocessing for numerical variables\n",
        "scaler = StandardScaler()\n",
        "X_train_num = scaler.fit_transform(X_train[['Age_at_Offence','TOT_POP','MalePCT','BlackPCT','HispanicPCT']])\n",
        "X_test_num = scaler.transform(X_test[['Age_at_Offence','TOT_POP','MalePCT','BlackPCT','HispanicPCT']])\n",
        "\n",
        "\n",
        "# Preprocessing for categorical variables\n",
        "encoder = OneHotEncoder(handle_unknown='ignore')\n",
        "X_train_cat = encoder.fit_transform(X_train[['Inmate_Type','Gender','Race','County','Offense','Sentence_Type','Offense_Description','Sentence_Year','Offense_Year']])\n",
        "X_test_cat = encoder.transform(X_test[['Inmate_Type','Gender','Race','County','Offense','Sentence_Type','Offense_Description','Sentence_Year','Offense_Year']])\n",
        "\n",
        "\n",
        "# Combine numerical and categorical variables\n",
        "X_train_pre = np.concatenate([X_train_num, X_train_cat.toarray()], axis=1)\n",
        "X_test_pre = np.concatenate([X_test_num, X_test_cat.toarray()], axis=1)\n"
      ],
      "metadata": {
        "id": "iaTQZu5xG0f8"
      },
      "execution_count": 9,
      "outputs": []
    },
    {
      "cell_type": "markdown",
      "source": [
        "GLM Model"
      ],
      "metadata": {
        "id": "tZupxOCLJhPv"
      }
    },
    {
      "cell_type": "code",
      "source": [
        "\n",
        "# Initialize the GLM model\n",
        "glm = linear_model.GammaRegressor()\n",
        "\n",
        "# Fit the model\n",
        "glm_results = glm.fit(X_train_pre, y_train)\n",
        "\n",
        "# Fit the model\n",
        "glm.fit(X_train_pre, y_train)\n",
        "\n",
        "# Use the model to make predictions\n",
        "predictions = glm.predict(X_test_pre)\n",
        "\n",
        "# Calculate the mean squared error\n",
        "mse = mean_squared_error(y_test, predictions)\n",
        "print(\"Mean squared error:\", mse)"
      ],
      "metadata": {
        "colab": {
          "base_uri": "https://localhost:8080/"
        },
        "id": "rMy_QOFXHTcu",
        "outputId": "0d469b16-31e4-4941-9bc1-7609019db1f8"
      },
      "execution_count": 11,
      "outputs": [
        {
          "output_type": "stream",
          "name": "stdout",
          "text": [
            "Mean squared error: 395383.76575176505\n"
          ]
        }
      ]
    },
    {
      "cell_type": "code",
      "source": [
        "# Add 5 fold cross validation\n",
        "\n",
        "# Define the parameter grid for hyperparameter tuning\n",
        "param_grid = {'alpha': [0.001, 0.01, 0.1, 1, 10, 100],\n",
        "              'fit_intercept': [True, False]}\n",
        "\n",
        "# Initialize the GridSearchCV object\n",
        "grid_search = GridSearchCV(glm, param_grid, cv=5)\n",
        "\n",
        "# Fit the GridSearchCV object to the data\n",
        "grid_search.fit(X_train_pre, y_train)\n"
      ],
      "metadata": {
        "id": "ovRHj6yQPcGh"
      },
      "execution_count": null,
      "outputs": []
    },
    {
      "cell_type": "code",
      "source": [
        "\n",
        "# Print the best parameters and the best score\n",
        "print(\"Best parameters:\", grid_search.best_params_)\n",
        "print(\"Best score:\", grid_search.best_score_)\n",
        "\n",
        "# Use the best parameters to make predictions on the test data\n",
        "best_glm = grid_search.best_estimator_\n",
        "predictions = best_glm.predict(X_test_pre)\n",
        "\n",
        "# Calculate the mean squared error of the final model\n",
        "mse = mean_squared_error(y_test, predictions)\n",
        "print(\"Mean squared error:\", mse)"
      ],
      "metadata": {
        "colab": {
          "base_uri": "https://localhost:8080/"
        },
        "id": "dkj11FdYQ3zN",
        "outputId": "5ee2c3b5-e406-4dbb-9f88-777a9120af62"
      },
      "execution_count": 14,
      "outputs": [
        {
          "output_type": "stream",
          "name": "stdout",
          "text": [
            "Best parameters: {'alpha': 0.001, 'fit_intercept': True}\n",
            "Best score: 0.7285531959850079\n",
            "Mean squared error: 106344.852221881\n"
          ]
        }
      ]
    }
  ]
}